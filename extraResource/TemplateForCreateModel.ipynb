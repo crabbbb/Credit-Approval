{
 "cells": [
  {
   "cell_type": "code",
   "execution_count": 1,
   "id": "64326431-ad13-40e7-b891-e6fd9ae2c0c1",
   "metadata": {},
   "outputs": [],
   "source": [
    "from ucimlrepo import fetch_ucirepo \n",
    "import pandas as pd\n",
    "import numpy as np\n",
    "import matplotlib.pyplot as plt\n",
    "import random\n",
    "import seaborn as sns\n",
    "from sklearn.preprocessing import OrdinalEncoder, MinMaxScaler\n",
    "from scipy.stats import zscore\n",
    "from sklearn.utils import shuffle\n",
    "from sklearn.model_selection import train_test_split\n",
    "import joblib\n",
    "\n",
    "%matplotlib inline"
   ]
  },
  {
   "cell_type": "code",
   "execution_count": 17,
   "id": "5a3a49e2-9ac1-448a-aed1-8cf2b6e468dd",
   "metadata": {},
   "outputs": [
    {
     "data": {
      "text/plain": [
       "(657, 13)"
      ]
     },
     "execution_count": 17,
     "metadata": {},
     "output_type": "execute_result"
    }
   ],
   "source": [
    "# read again \n",
    "clean_df = pd.read_csv('csvDataFile/cleanData.csv')\n",
    "\n",
    "clean_df.shape"
   ]
  },
  {
   "cell_type": "code",
   "execution_count": 18,
   "id": "17547eb1-5601-4ae9-822a-57f5a3873f02",
   "metadata": {},
   "outputs": [],
   "source": [
    "# drop target columns\n",
    "x = clean_df.drop(columns=['A16']) \n",
    "y = clean_df['A16']"
   ]
  },
  {
   "cell_type": "code",
   "execution_count": 19,
   "id": "202b3bdd-9a6f-4927-b793-0b828dbd5f5a",
   "metadata": {},
   "outputs": [
    {
     "data": {
      "text/html": [
       "<div>\n",
       "<style scoped>\n",
       "    .dataframe tbody tr th:only-of-type {\n",
       "        vertical-align: middle;\n",
       "    }\n",
       "\n",
       "    .dataframe tbody tr th {\n",
       "        vertical-align: top;\n",
       "    }\n",
       "\n",
       "    .dataframe thead th {\n",
       "        text-align: right;\n",
       "    }\n",
       "</style>\n",
       "<table border=\"1\" class=\"dataframe\">\n",
       "  <thead>\n",
       "    <tr style=\"text-align: right;\">\n",
       "      <th></th>\n",
       "      <th>A2</th>\n",
       "      <th>A3</th>\n",
       "      <th>A4</th>\n",
       "      <th>A5</th>\n",
       "      <th>A6</th>\n",
       "      <th>A8</th>\n",
       "      <th>A9</th>\n",
       "      <th>A10</th>\n",
       "      <th>A11</th>\n",
       "      <th>A13</th>\n",
       "      <th>A14</th>\n",
       "      <th>A15</th>\n",
       "    </tr>\n",
       "  </thead>\n",
       "  <tbody>\n",
       "    <tr>\n",
       "      <th>0</th>\n",
       "      <td>52.50</td>\n",
       "      <td>7.000</td>\n",
       "      <td>1.0</td>\n",
       "      <td>0.0</td>\n",
       "      <td>0.0</td>\n",
       "      <td>3.000</td>\n",
       "      <td>0.0</td>\n",
       "      <td>0.0</td>\n",
       "      <td>0</td>\n",
       "      <td>0.0</td>\n",
       "      <td>0.0</td>\n",
       "      <td>0</td>\n",
       "    </tr>\n",
       "    <tr>\n",
       "      <th>1</th>\n",
       "      <td>19.50</td>\n",
       "      <td>9.585</td>\n",
       "      <td>1.0</td>\n",
       "      <td>0.0</td>\n",
       "      <td>0.0</td>\n",
       "      <td>0.790</td>\n",
       "      <td>0.0</td>\n",
       "      <td>0.0</td>\n",
       "      <td>0</td>\n",
       "      <td>0.0</td>\n",
       "      <td>80.0</td>\n",
       "      <td>350</td>\n",
       "    </tr>\n",
       "    <tr>\n",
       "      <th>2</th>\n",
       "      <td>36.50</td>\n",
       "      <td>4.250</td>\n",
       "      <td>1.0</td>\n",
       "      <td>0.0</td>\n",
       "      <td>10.0</td>\n",
       "      <td>3.500</td>\n",
       "      <td>0.0</td>\n",
       "      <td>0.0</td>\n",
       "      <td>0</td>\n",
       "      <td>0.0</td>\n",
       "      <td>454.0</td>\n",
       "      <td>50</td>\n",
       "    </tr>\n",
       "    <tr>\n",
       "      <th>3</th>\n",
       "      <td>15.75</td>\n",
       "      <td>0.375</td>\n",
       "      <td>1.0</td>\n",
       "      <td>0.0</td>\n",
       "      <td>1.0</td>\n",
       "      <td>1.000</td>\n",
       "      <td>0.0</td>\n",
       "      <td>0.0</td>\n",
       "      <td>0</td>\n",
       "      <td>0.0</td>\n",
       "      <td>120.0</td>\n",
       "      <td>18</td>\n",
       "    </tr>\n",
       "    <tr>\n",
       "      <th>4</th>\n",
       "      <td>36.33</td>\n",
       "      <td>3.790</td>\n",
       "      <td>1.0</td>\n",
       "      <td>0.0</td>\n",
       "      <td>12.0</td>\n",
       "      <td>1.165</td>\n",
       "      <td>1.0</td>\n",
       "      <td>0.0</td>\n",
       "      <td>0</td>\n",
       "      <td>0.0</td>\n",
       "      <td>200.0</td>\n",
       "      <td>0</td>\n",
       "    </tr>\n",
       "  </tbody>\n",
       "</table>\n",
       "</div>"
      ],
      "text/plain": [
       "      A2     A3   A4   A5    A6     A8   A9  A10  A11  A13    A14  A15\n",
       "0  52.50  7.000  1.0  0.0   0.0  3.000  0.0  0.0    0  0.0    0.0    0\n",
       "1  19.50  9.585  1.0  0.0   0.0  0.790  0.0  0.0    0  0.0   80.0  350\n",
       "2  36.50  4.250  1.0  0.0  10.0  3.500  0.0  0.0    0  0.0  454.0   50\n",
       "3  15.75  0.375  1.0  0.0   1.0  1.000  0.0  0.0    0  0.0  120.0   18\n",
       "4  36.33  3.790  1.0  0.0  12.0  1.165  1.0  0.0    0  0.0  200.0    0"
      ]
     },
     "execution_count": 19,
     "metadata": {},
     "output_type": "execute_result"
    }
   ],
   "source": [
    "x.head()"
   ]
  },
  {
   "cell_type": "code",
   "execution_count": 20,
   "id": "416c5b16-2056-4bb4-854b-ece0aa33632d",
   "metadata": {},
   "outputs": [
    {
     "data": {
      "text/plain": [
       "0    1.0\n",
       "1    1.0\n",
       "2    1.0\n",
       "3    1.0\n",
       "4    1.0\n",
       "Name: A16, dtype: float64"
      ]
     },
     "execution_count": 20,
     "metadata": {},
     "output_type": "execute_result"
    }
   ],
   "source": [
    "y.head()"
   ]
  },
  {
   "cell_type": "code",
   "execution_count": 21,
   "id": "61945284-0e13-4a2e-bda2-07cbe3d4013e",
   "metadata": {},
   "outputs": [
    {
     "data": {
      "text/plain": [
       "array([[ 52.5  ,   7.   ,   1.   , ...,   0.   ,   0.   ,   0.   ],\n",
       "       [ 19.5  ,   9.585,   1.   , ...,   0.   ,  80.   , 350.   ],\n",
       "       [ 36.5  ,   4.25 ,   1.   , ...,   0.   , 454.   ,  50.   ],\n",
       "       ...,\n",
       "       [ 27.67 ,   0.75 ,   1.   , ...,   0.   , 220.   , 251.   ],\n",
       "       [ 33.67 ,   2.165,   1.   , ...,   1.   , 120.   ,   0.   ],\n",
       "       [ 23.08 ,   0.   ,   1.   , ...,   2.   ,   0.   ,   0.   ]])"
      ]
     },
     "execution_count": 21,
     "metadata": {},
     "output_type": "execute_result"
    }
   ],
   "source": [
    "x = x.values\n",
    "\n",
    "x"
   ]
  },
  {
   "cell_type": "code",
   "execution_count": 22,
   "id": "fc546806-782f-4428-9fb0-2faf1eb372c9",
   "metadata": {},
   "outputs": [],
   "source": [
    "x_train, x_test, y_train, y_test = train_test_split(x, y, stratify=y, test_size=0.20, random_state=0)\n",
    "# training using x_train and y_train"
   ]
  },
  {
   "cell_type": "code",
   "execution_count": 23,
   "id": "d46b8293-bfc1-467e-96ee-ed17c8523827",
   "metadata": {},
   "outputs": [
    {
     "name": "stdout",
     "output_type": "stream",
     "text": [
      "Size of x_train > 525\n",
      "Size of x_test > 132\n"
     ]
    }
   ],
   "source": [
    "print(f\"Size of x_train > {len(x_train)}\")\n",
    "print(f\"Size of x_test > {len(x_test)}\")"
   ]
  },
  {
   "cell_type": "code",
   "execution_count": 24,
   "id": "d7cb71fb-cabe-4156-bb82-f28663094a8d",
   "metadata": {},
   "outputs": [
    {
     "name": "stdout",
     "output_type": "stream",
     "text": [
      "[[1.19641256e-01 4.93181818e-02 5.00000000e-01 ... 0.00000000e+00\n",
      "  1.50000000e-01 7.00000000e-05]\n",
      " [2.52556054e-01 7.00000000e-02 5.00000000e-01 ... 0.00000000e+00\n",
      "  1.38888889e-01 3.00000000e-05]\n",
      " [4.97757848e-01 7.00000000e-02 5.00000000e-01 ... 0.00000000e+00\n",
      "  3.00000000e-01 0.00000000e+00]\n",
      " ...\n",
      " [1.65919283e-01 3.40909091e-02 5.00000000e-01 ... 1.00000000e+00\n",
      "  4.44444444e-01 0.00000000e+00]\n",
      " [2.64573991e-01 4.54545455e-02 5.00000000e-01 ... 0.00000000e+00\n",
      "  2.31944444e-01 5.00000000e-03]\n",
      " [1.31479821e-01 4.58409091e-01 1.00000000e+00 ... 0.00000000e+00\n",
      "  3.61111111e-01 0.00000000e+00]]\n"
     ]
    }
   ],
   "source": [
    "scaler = MinMaxScaler(feature_range=(0, 1))\n",
    "\n",
    "rescaledX_train = scaler.fit_transform(x_train)\n",
    "rescaledX_test = scaler.transform(x_test)\n",
    "\n",
    "print(rescaledX_train)"
   ]
  },
  {
   "cell_type": "markdown",
   "id": "a584bdb1-c03d-4587-8047-45092efca538",
   "metadata": {},
   "source": [
    "# Your Model Name"
   ]
  }
 ],
 "metadata": {
  "kernelspec": {
   "display_name": "creditApproval",
   "language": "python",
   "name": "creditapproval"
  },
  "language_info": {
   "codemirror_mode": {
    "name": "ipython",
    "version": 3
   },
   "file_extension": ".py",
   "mimetype": "text/x-python",
   "name": "python",
   "nbconvert_exporter": "python",
   "pygments_lexer": "ipython3",
   "version": "3.12.4"
  }
 },
 "nbformat": 4,
 "nbformat_minor": 5
}
