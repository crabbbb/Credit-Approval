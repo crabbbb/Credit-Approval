{
 "cells": [
  {
   "cell_type": "code",
   "execution_count": 281,
   "id": "64326431-ad13-40e7-b891-e6fd9ae2c0c1",
   "metadata": {},
   "outputs": [],
   "source": [
    "from ucimlrepo import fetch_ucirepo \n",
    "import pandas as pd\n",
    "import numpy as np\n",
    "import matplotlib.pyplot as plt\n",
    "import random\n",
    "import seaborn as sns\n",
    "from sklearn.preprocessing import OrdinalEncoder, MinMaxScaler\n",
    "from scipy.stats import zscore\n",
    "from sklearn.utils import shuffle\n",
    "from sklearn.model_selection import train_test_split\n",
    "import joblib\n",
    "\n",
    "%matplotlib inline"
   ]
  },
  {
   "cell_type": "code",
   "execution_count": 282,
   "id": "5a3a49e2-9ac1-448a-aed1-8cf2b6e468dd",
   "metadata": {},
   "outputs": [
    {
     "data": {
      "text/plain": [
       "(657, 13)"
      ]
     },
     "execution_count": 282,
     "metadata": {},
     "output_type": "execute_result"
    }
   ],
   "source": [
    "# read again \n",
    "clean_df = pd.read_csv('csvDataFile/cleanData.csv')\n",
    "\n",
    "clean_df.shape"
   ]
  },
  {
   "cell_type": "code",
   "execution_count": 283,
   "id": "17547eb1-5601-4ae9-822a-57f5a3873f02",
   "metadata": {},
   "outputs": [],
   "source": [
    "# drop target columns\n",
    "x = clean_df.drop(columns=['A16']) \n",
    "y = clean_df['A16']"
   ]
  },
  {
   "cell_type": "code",
   "execution_count": 284,
   "id": "202b3bdd-9a6f-4927-b793-0b828dbd5f5a",
   "metadata": {},
   "outputs": [
    {
     "data": {
      "text/html": [
       "<div>\n",
       "<style scoped>\n",
       "    .dataframe tbody tr th:only-of-type {\n",
       "        vertical-align: middle;\n",
       "    }\n",
       "\n",
       "    .dataframe tbody tr th {\n",
       "        vertical-align: top;\n",
       "    }\n",
       "\n",
       "    .dataframe thead th {\n",
       "        text-align: right;\n",
       "    }\n",
       "</style>\n",
       "<table border=\"1\" class=\"dataframe\">\n",
       "  <thead>\n",
       "    <tr style=\"text-align: right;\">\n",
       "      <th></th>\n",
       "      <th>A2</th>\n",
       "      <th>A3</th>\n",
       "      <th>A4</th>\n",
       "      <th>A5</th>\n",
       "      <th>A6</th>\n",
       "      <th>A8</th>\n",
       "      <th>A9</th>\n",
       "      <th>A10</th>\n",
       "      <th>A11</th>\n",
       "      <th>A13</th>\n",
       "      <th>A14</th>\n",
       "      <th>A15</th>\n",
       "    </tr>\n",
       "  </thead>\n",
       "  <tbody>\n",
       "    <tr>\n",
       "      <th>0</th>\n",
       "      <td>52.50</td>\n",
       "      <td>7.000</td>\n",
       "      <td>1.0</td>\n",
       "      <td>0.0</td>\n",
       "      <td>0.0</td>\n",
       "      <td>3.000</td>\n",
       "      <td>0.0</td>\n",
       "      <td>0.0</td>\n",
       "      <td>0</td>\n",
       "      <td>0.0</td>\n",
       "      <td>0.0</td>\n",
       "      <td>0</td>\n",
       "    </tr>\n",
       "    <tr>\n",
       "      <th>1</th>\n",
       "      <td>19.50</td>\n",
       "      <td>9.585</td>\n",
       "      <td>1.0</td>\n",
       "      <td>0.0</td>\n",
       "      <td>0.0</td>\n",
       "      <td>0.790</td>\n",
       "      <td>0.0</td>\n",
       "      <td>0.0</td>\n",
       "      <td>0</td>\n",
       "      <td>0.0</td>\n",
       "      <td>80.0</td>\n",
       "      <td>350</td>\n",
       "    </tr>\n",
       "    <tr>\n",
       "      <th>2</th>\n",
       "      <td>36.50</td>\n",
       "      <td>4.250</td>\n",
       "      <td>1.0</td>\n",
       "      <td>0.0</td>\n",
       "      <td>10.0</td>\n",
       "      <td>3.500</td>\n",
       "      <td>0.0</td>\n",
       "      <td>0.0</td>\n",
       "      <td>0</td>\n",
       "      <td>0.0</td>\n",
       "      <td>454.0</td>\n",
       "      <td>50</td>\n",
       "    </tr>\n",
       "    <tr>\n",
       "      <th>3</th>\n",
       "      <td>15.75</td>\n",
       "      <td>0.375</td>\n",
       "      <td>1.0</td>\n",
       "      <td>0.0</td>\n",
       "      <td>1.0</td>\n",
       "      <td>1.000</td>\n",
       "      <td>0.0</td>\n",
       "      <td>0.0</td>\n",
       "      <td>0</td>\n",
       "      <td>0.0</td>\n",
       "      <td>120.0</td>\n",
       "      <td>18</td>\n",
       "    </tr>\n",
       "    <tr>\n",
       "      <th>4</th>\n",
       "      <td>36.33</td>\n",
       "      <td>3.790</td>\n",
       "      <td>1.0</td>\n",
       "      <td>0.0</td>\n",
       "      <td>12.0</td>\n",
       "      <td>1.165</td>\n",
       "      <td>1.0</td>\n",
       "      <td>0.0</td>\n",
       "      <td>0</td>\n",
       "      <td>0.0</td>\n",
       "      <td>200.0</td>\n",
       "      <td>0</td>\n",
       "    </tr>\n",
       "  </tbody>\n",
       "</table>\n",
       "</div>"
      ],
      "text/plain": [
       "      A2     A3   A4   A5    A6     A8   A9  A10  A11  A13    A14  A15\n",
       "0  52.50  7.000  1.0  0.0   0.0  3.000  0.0  0.0    0  0.0    0.0    0\n",
       "1  19.50  9.585  1.0  0.0   0.0  0.790  0.0  0.0    0  0.0   80.0  350\n",
       "2  36.50  4.250  1.0  0.0  10.0  3.500  0.0  0.0    0  0.0  454.0   50\n",
       "3  15.75  0.375  1.0  0.0   1.0  1.000  0.0  0.0    0  0.0  120.0   18\n",
       "4  36.33  3.790  1.0  0.0  12.0  1.165  1.0  0.0    0  0.0  200.0    0"
      ]
     },
     "execution_count": 284,
     "metadata": {},
     "output_type": "execute_result"
    }
   ],
   "source": [
    "x.head()"
   ]
  },
  {
   "cell_type": "code",
   "execution_count": 285,
   "id": "416c5b16-2056-4bb4-854b-ece0aa33632d",
   "metadata": {},
   "outputs": [
    {
     "data": {
      "text/plain": [
       "0    1.0\n",
       "1    1.0\n",
       "2    1.0\n",
       "3    1.0\n",
       "4    1.0\n",
       "Name: A16, dtype: float64"
      ]
     },
     "execution_count": 285,
     "metadata": {},
     "output_type": "execute_result"
    }
   ],
   "source": [
    "y.head()"
   ]
  },
  {
   "cell_type": "code",
   "execution_count": 286,
   "id": "61945284-0e13-4a2e-bda2-07cbe3d4013e",
   "metadata": {},
   "outputs": [
    {
     "data": {
      "text/plain": [
       "array([[ 52.5  ,   7.   ,   1.   , ...,   0.   ,   0.   ,   0.   ],\n",
       "       [ 19.5  ,   9.585,   1.   , ...,   0.   ,  80.   , 350.   ],\n",
       "       [ 36.5  ,   4.25 ,   1.   , ...,   0.   , 454.   ,  50.   ],\n",
       "       ...,\n",
       "       [ 27.67 ,   0.75 ,   1.   , ...,   0.   , 220.   , 251.   ],\n",
       "       [ 33.67 ,   2.165,   1.   , ...,   1.   , 120.   ,   0.   ],\n",
       "       [ 23.08 ,   0.   ,   1.   , ...,   2.   ,   0.   ,   0.   ]])"
      ]
     },
     "execution_count": 286,
     "metadata": {},
     "output_type": "execute_result"
    }
   ],
   "source": [
    "x = x.values\n",
    "\n",
    "x"
   ]
  },
  {
   "cell_type": "code",
   "execution_count": 287,
   "id": "fc546806-782f-4428-9fb0-2faf1eb372c9",
   "metadata": {},
   "outputs": [],
   "source": [
    "x_train, x_test, y_train, y_test = train_test_split(x, y, stratify=y, test_size=0.20, random_state=0)\n",
    "# training using x_train and y_train"
   ]
  },
  {
   "cell_type": "code",
   "execution_count": 288,
   "id": "d46b8293-bfc1-467e-96ee-ed17c8523827",
   "metadata": {},
   "outputs": [
    {
     "name": "stdout",
     "output_type": "stream",
     "text": [
      "Size of x_train > 525\n",
      "Size of x_test > 132\n"
     ]
    }
   ],
   "source": [
    "print(f\"Size of x_train > {len(x_train)}\")\n",
    "print(f\"Size of x_test > {len(x_test)}\")"
   ]
  },
  {
   "cell_type": "code",
   "execution_count": 289,
   "id": "d7cb71fb-cabe-4156-bb82-f28663094a8d",
   "metadata": {},
   "outputs": [
    {
     "name": "stdout",
     "output_type": "stream",
     "text": [
      "[[1.19641256e-01 4.93181818e-02 5.00000000e-01 ... 0.00000000e+00\n",
      "  1.50000000e-01 7.00000000e-05]\n",
      " [2.52556054e-01 7.00000000e-02 5.00000000e-01 ... 0.00000000e+00\n",
      "  1.38888889e-01 3.00000000e-05]\n",
      " [4.97757848e-01 7.00000000e-02 5.00000000e-01 ... 0.00000000e+00\n",
      "  3.00000000e-01 0.00000000e+00]\n",
      " ...\n",
      " [1.65919283e-01 3.40909091e-02 5.00000000e-01 ... 1.00000000e+00\n",
      "  4.44444444e-01 0.00000000e+00]\n",
      " [2.64573991e-01 4.54545455e-02 5.00000000e-01 ... 0.00000000e+00\n",
      "  2.31944444e-01 5.00000000e-03]\n",
      " [1.31479821e-01 4.58409091e-01 1.00000000e+00 ... 0.00000000e+00\n",
      "  3.61111111e-01 0.00000000e+00]]\n"
     ]
    }
   ],
   "source": [
    "scaler = MinMaxScaler(feature_range=(0, 1))\n",
    "\n",
    "rescaledX_train = scaler.fit_transform(x_train)\n",
    "rescaledX_test = scaler.transform(x_test)\n",
    "\n",
    "print(rescaledX_train)"
   ]
  },
  {
   "cell_type": "markdown",
   "id": "a584bdb1-c03d-4587-8047-45092efca538",
   "metadata": {},
   "source": [
    "# K-Nearest Neighbor\n",
    "step required \n",
    "1. implement your model ( train )\n",
    "2. calculate the accuracy of the model ( test )\n",
    "3. using gridsearchcv to change the parameter and increase the accuracy \n",
    "4.  show the accuracy again\n",
    "5. using joblib ( or other library ) export the final version of model ( which is the one accuracy more higher ) to pkl file\n",
    "\n",
    "***training model need to use rescaledX_train and y _train, testing model using rescaledX_test and y_test"
   ]
  },
  {
   "cell_type": "code",
   "execution_count": null,
   "id": "9895ea40-ffcf-4e49-8735-3dcc370187f0",
   "metadata": {},
   "outputs": [],
   "source": []
  },
  {
   "cell_type": "code",
   "execution_count": null,
   "id": "490d27e5-3d41-437c-af4a-e4e1bb792e91",
   "metadata": {},
   "outputs": [],
   "source": []
  },
  {
   "cell_type": "code",
   "execution_count": 291,
   "id": "fe118f02-dc16-496d-a19f-b54f81c8a322",
   "metadata": {},
   "outputs": [],
   "source": [
    "# from sklearn.model_selection import GridSearchCV\n",
    "# from sklearn.neighbors import KNeighborsClassifier\n",
    "\n",
    "# # Define the KNN model\n",
    "# knn = KNeighborsClassifier()\n",
    "\n",
    "# # Create a parameter grid to tune the hyperparameters\n",
    "# param_grid = {\n",
    "#     'n_neighbors': range(1, 11, 2),  # Tune the number of neighbors from 1 to 10 (odd numbers)\n",
    "#     'weights': ['uniform', 'distance'],  # Test both uniform and distance weighting\n",
    "#     'algorithm' : ['auto', 'ball_tree', 'kd_tree', 'brute'],  # Algorithm to compute the nearest neighbors\n",
    "#     'leaf_size': [10, 20, 30, 40, 50],  # Leaf size for tree algorithms\n",
    "#     'p': [1, 2],  # Minkowski distance with p=1 (Manhattan) and p=2 (Euclidean)\n",
    "#     'metric': ['minkowski', 'euclidean', 'manhattan']  # Distance metric to use\n",
    "# }\n",
    "\n",
    "# # Initialize the GridSearchCV object with KNN and the parameter grid\n",
    "# knn_grid = GridSearchCV(knn, param_grid, cv=5)  # Using 5-fold cross-validation\n",
    "\n",
    "# # Train the model using the training data\n",
    "# knn_grid.fit(rescaledX_train, y_train)"
   ]
  },
  {
   "cell_type": "code",
   "execution_count": 292,
   "id": "8529d8d8-1d43-4642-928d-a5b75e909a94",
   "metadata": {},
   "outputs": [],
   "source": [
    "# # Print the best hyperparameters and the best score\n",
    "# print(f\"Best Score from Grid Search: {knn_grid.best_score_}\")\n",
    "# print(f\"Best Number of Neighbors: {knn_grid.best_estimator_.n_neighbors}\")\n",
    "# print(f\"Best Weights: {knn_grid.best_estimator_.weights}\")\n",
    "# print(f\"Best Algorithm: {knn_grid.best_estimator_.algorithm}\")\n",
    "# print(f\"Best Leaf Size: {knn_grid.best_estimator_.leaf_size}\")\n",
    "# print(f\"Best p Value: {knn_grid.best_estimator_.p}\")\n",
    "# print(f\"Best Metric: {knn_grid.best_estimator_.metric}\")\n",
    "\n",
    "\n",
    "# # Accuracy on the training set\n",
    "# train_accuracy = knn_grid.score(rescaledX_train, y_train)\n",
    "# print(f\"Training Accuracy: {train_accuracy:.4f}\")\n",
    "\n",
    "# # Accuracy on the testing set\n",
    "# test_accuracy = knn_grid.score(rescaledX_test, y_test)\n",
    "# print(f\"Testing Accuracy: {test_accuracy:.4f}\")"
   ]
  },
  {
   "cell_type": "code",
   "execution_count": 293,
   "id": "0ad55c76-e5d4-4466-ada4-cb5834b16b71",
   "metadata": {},
   "outputs": [],
   "source": [
    "# from sklearn.metrics import accuracy_score, mean_squared_error\n",
    "\n",
    "# # Predict the target labels for the test data\n",
    "# y_pred_knn = knn_grid.predict(rescaledX_test)\n",
    "\n",
    "# # Calculate accuracy\n",
    "# knn_accuracy = accuracy_score(y_test, y_pred_knn)\n",
    "\n",
    "# # Calculate RMSE\n",
    "# rmse = np.sqrt(mean_squared_error(y_test, y_pred_knn))\n",
    "\n",
    "# print(f\"Accuracy: {knn_accuracy:.4f}\")\n",
    "# print(f\"Root Mean Square Error (RMSE): {rmse:.4f}\")\n",
    "\n"
   ]
  },
  {
   "cell_type": "code",
   "execution_count": 294,
   "id": "b8fc3212-1adf-4aab-9114-963e180b9ad0",
   "metadata": {},
   "outputs": [],
   "source": [
    "# from sklearn.metrics import confusion_matrix, ConfusionMatrixDisplay\n",
    "# import matplotlib.pyplot as plt\n",
    "# import seaborn as sns\n",
    "\n",
    "# # Generate the confusion matrix\n",
    "# cm = confusion_matrix(y_test, y_pred_knn)\n",
    "\n",
    "# # Option 1: Display the confusion matrix using seaborn\n",
    "# sns.heatmap(cm, annot=True, fmt='d', cmap='Blues')\n",
    "# plt.ylabel('Actual')\n",
    "# plt.xlabel('Predicted')\n",
    "# plt.title('Confusion Matrix')\n",
    "# plt.show()\n",
    "\n",
    "# # Option 2: Using ConfusionMatrixDisplay from sklearn\n",
    "# disp = ConfusionMatrixDisplay(confusion_matrix=cm, display_labels=knn_grid.classes_)\n",
    "# disp.plot()\n",
    "# plt.show()\n",
    "\n"
   ]
  },
  {
   "cell_type": "code",
   "execution_count": 295,
   "id": "16eabe43-44bd-4b1d-a475-4ffec6874e23",
   "metadata": {},
   "outputs": [],
   "source": [
    "# from sklearn.metrics import classification_report\n",
    "\n",
    "# # Print the classification report for precision, recall, and F1 score\n",
    "# print(classification_report(y_test, y_pred_knn))\n",
    "\n"
   ]
  },
  {
   "cell_type": "code",
   "execution_count": 296,
   "id": "defdccf2-6fc4-4746-b773-aa789545994a",
   "metadata": {},
   "outputs": [],
   "source": [
    "# from sklearn.metrics import precision_score, recall_score, f1_score\n",
    "\n",
    "# # Calculate precision, recall, and F1 score\n",
    "# precision = precision_score(y_test, y_pred_knn)\n",
    "# recall = recall_score(y_test, y_pred_knn)\n",
    "# f1 = f1_score(y_test, y_pred_knn)\n",
    "\n",
    "# print(f\"Precision: {precision:.4f}\")\n",
    "# print(f\"Recall: {recall:.4f}\")\n",
    "# print(f\"F1 Score: {f1:.4f}\")\n"
   ]
  },
  {
   "cell_type": "code",
   "execution_count": 297,
   "id": "54b342e7-a703-4edb-9aa3-bec446c110d8",
   "metadata": {},
   "outputs": [],
   "source": [
    "# from sklearn.metrics import accuracy_score, precision_score, recall_score, f1_score\n",
    "\n",
    "# def print_scores(y_true, y_pred):\n",
    "#     accuracy = accuracy_score(y_true, y_pred) * 100\n",
    "#     precision = precision_score(y_true, y_pred) * 100\n",
    "#     recall = recall_score(y_true, y_pred) * 100\n",
    "#     f1 = f1_score(y_true, y_pred) * 100\n",
    "    \n",
    "#     print(f\"Accuracy: {accuracy:.2f}%\")\n",
    "#     print(f\"Precision: {precision:.2f}%\")\n",
    "#     print(f\"Recall: {recall:.2f}%\")\n",
    "#     print(f\"F1 Score: {f1:.2f}%\")\n",
    "    \n",
    "# # Use the function to print the scores for the test set\n",
    "# print_scores(y_test, y_pred_knn)"
   ]
  },
  {
   "cell_type": "code",
   "execution_count": 298,
   "id": "091c78d7-97c7-4c33-8a75-1ae21f5c00b2",
   "metadata": {},
   "outputs": [],
   "source": [
    "#ignore\n",
    "\n",
    "# #Loading and using the saved model\n",
    "# # Load the model from the .pkl file\n",
    "# loaded_knn = joblib.load('best_knn_model.pkl')\n",
    "\n",
    "# # Predict using the loaded model\n",
    "# y_loaded_pred = loaded_knn.predict(rescaledX_test)\n",
    "\n",
    "# # Confirm that accuracy of the loaded model matches the tuned model's accuracy\n",
    "# loaded_model_accuracy = accuracy_score(y_test, y_loaded_pred)\n",
    "# print(f\"Loaded Model Accuracy: {loaded_model_accuracy:.4f}\")\n"
   ]
  },
  {
   "cell_type": "markdown",
   "id": "8e2f42ec-fd08-42d1-9f25-1e4452a0240a",
   "metadata": {},
   "source": [
    "## Take this ver"
   ]
  },
  {
   "cell_type": "code",
   "execution_count": 300,
   "id": "888bac71-4e09-410b-bbe4-420ddae066be",
   "metadata": {},
   "outputs": [],
   "source": [
    "#import libraries\n",
    "import numpy as np\n",
    "from sklearn.neighbors import KNeighborsClassifier\n",
    "from sklearn.model_selection import GridSearchCV\n",
    "from sklearn.metrics import accuracy_score, precision_score, recall_score, f1_score, mean_squared_error, classification_report, confusion_matrix\n",
    "import matplotlib.pyplot as plt\n",
    "import seaborn as sns\n",
    "import joblib"
   ]
  },
  {
   "cell_type": "code",
   "execution_count": null,
   "id": "9b6461a3-15c5-4a7c-a486-1bb67aefa029",
   "metadata": {},
   "outputs": [],
   "source": [
    "#implement KNN model\n",
    "knn = KNeighborsClassifier()\n",
    "\n",
    "#use GridSearchCV to tune hyperparameters\n",
    "param_grid = {\n",
    "    'n_neighbors': range(1, 0, 2),\n",
    "    'weights': ['uniform', 'distance'],\n",
    "    'algorithm': ['auto', 'ball_tree', 'kd_tree', 'brute'],\n",
    "    'leaf_size': [10, 20, 30, 40, 50],\n",
    "    'p': [1, 2],\n",
    "    'metric': ['minkowski', 'euclidean', 'manhattan']\n",
    "}\n",
    "\n",
    "knn_grid = GridSearchCV(knn, param_grid, cv=5)\n",
    "knn_grid.fit(rescaledX_train, y_train)\n",
    "\n",
    "#best parameters and evaluate model\n",
    "print(\"Best parameters:\")\n",
    "print(knn_grid.best_params_)\n",
    "\n",
    "#get the best model from GridSearchCV\n",
    "best_knn = knn_grid.best_estimator_\n",
    "\n",
    "#evaluate on training data\n",
    "y_train_pred = best_knn.predict(rescaledX_train)\n",
    "train_accuracy = accuracy_score(y_train, y_train_pred)\n",
    "\n",
    "#evaluate on test data\n",
    "y_test_pred = best_knn.predict(rescaledX_test)\n",
    "test_accuracy = accuracy_score(y_test, y_test_pred)\n",
    "\n",
    "print(\"Accuracy Train Data:\", train_accuracy)\n",
    "print(\"Accuracy Test Data:\", test_accuracy)"
   ]
  },
  {
   "cell_type": "code",
   "execution_count": null,
   "id": "9e14d520-5f17-4ec1-82bc-c27387a1e135",
   "metadata": {},
   "outputs": [],
   "source": [
    "#calculate accuracy, precision, recall and F1 score\n",
    "accuracy_knn = accuracy_score(y_test, y_test_pred) * 100\n",
    "print('Accuracy  : %.5f' % accuracy_knn)\n",
    "\n",
    "\n",
    "\n",
    "\n",
    "# precision_knn = precision_score(y_test, y_test_pred) * 100\n",
    "# recall_knn = recall_score(y_test, y_test_pred) * 100\n",
    "# f1_knn = f1_score(y_test, y_test_pred) * 100\n",
    "\n",
    "# print('Precision : %.5f' % precision_knn)\n",
    "# print('Recall    : %.5f' % recall_knn)\n",
    "# print('F1 Score  : %.5f' % f1_knn)"
   ]
  },
  {
   "cell_type": "code",
   "execution_count": null,
   "id": "b8a62a13-761c-475a-b7bc-18d610c8dd57",
   "metadata": {},
   "outputs": [],
   "source": [
    "#caluclate Root Mean Squared Error (RMSE)\n",
    "rmse = np.sqrt(mean_squared_error(y_test, y_test_pred))\n",
    "print(\"RMSE:\", rmse)"
   ]
  },
  {
   "cell_type": "code",
   "execution_count": null,
   "id": "4f89aef7-2f8f-47bd-906b-9e4eb4874ce9",
   "metadata": {},
   "outputs": [],
   "source": [
    "#display confusion matrix\n",
    "cm = confusion_matrix(y_test, y_test_pred)\n",
    "sns.heatmap(cm, annot=True, fmt='d', cmap='Blues')\n",
    "plt.ylabel('Actual', fontsize=13)\n",
    "plt.xlabel('Predicted', fontsize=13)\n",
    "plt.title('Confusion Matrix', fontsize=17)\n",
    "plt.show()"
   ]
  },
  {
   "cell_type": "code",
   "execution_count": null,
   "id": "03bc4098-51c3-422f-b2ca-7ee5d27d7d23",
   "metadata": {},
   "outputs": [],
   "source": [
    "#display classification report\n",
    "print(classification_report(y_test, y_test_pred))"
   ]
  },
  {
   "cell_type": "code",
   "execution_count": null,
   "id": "dfae8183-7246-422a-aac8-7ea9a50b114f",
   "metadata": {},
   "outputs": [],
   "source": [
    "#save the model to knn.pkl file\n",
    "joblib.dump(best_knn, 'knn.pkl')\n",
    "print(\"Model saved to 'knn.pkl'\")"
   ]
  },
  {
   "cell_type": "code",
   "execution_count": null,
   "id": "bda71158-368e-4c65-80f2-567affb384b3",
   "metadata": {},
   "outputs": [],
   "source": []
  },
  {
   "cell_type": "code",
   "execution_count": null,
   "id": "179575df-185e-4a8d-8189-1218c438d496",
   "metadata": {},
   "outputs": [],
   "source": []
  },
  {
   "cell_type": "code",
   "execution_count": null,
   "id": "604bad68-b465-4cae-86d8-a391f830e78d",
   "metadata": {},
   "outputs": [],
   "source": []
  }
 ],
 "metadata": {
  "kernelspec": {
   "display_name": "Python 3 (ipykernel)",
   "language": "python",
   "name": "python3"
  },
  "language_info": {
   "codemirror_mode": {
    "name": "ipython",
    "version": 3
   },
   "file_extension": ".py",
   "mimetype": "text/x-python",
   "name": "python",
   "nbconvert_exporter": "python",
   "pygments_lexer": "ipython3",
   "version": "3.12.4"
  }
 },
 "nbformat": 4,
 "nbformat_minor": 5
}
