{
 "cells": [
  {
   "cell_type": "markdown",
   "id": "0b7429fb-e6df-469d-8a06-62a78b6e5325",
   "metadata": {},
   "source": [
    "# Package Installation "
   ]
  },
  {
   "cell_type": "code",
   "execution_count": 1,
   "id": "b23d1eb2-1ce8-48e9-908d-1281e278323c",
   "metadata": {},
   "outputs": [],
   "source": [
    "# %pip install ucimlrepo\n",
    "# %pip install pandas\n",
    "# %pip install numpy\n",
    "# %pip install matplotlib\n",
    "# %pip install seaborn\n",
    "# %pip install scikit-learn\n",
    "# %pip install scipy\n",
    "# %pip install joblib\n",
    "# %pip install xgboost\n",
    "# %pip install streamlit\n",
    "# %pip install pickle "
   ]
  },
  {
   "cell_type": "markdown",
   "id": "8aa6557d-abe5-4078-9de4-fa465428afed",
   "metadata": {},
   "source": [
    "# Import Library"
   ]
  },
  {
   "cell_type": "code",
   "execution_count": 2,
   "id": "51a21b39-503f-4853-98ec-7f1ec0ef69f4",
   "metadata": {},
   "outputs": [],
   "source": [
    "from ucimlrepo import fetch_ucirepo \n",
    "import pandas as pd\n",
    "import numpy as np\n",
    "import matplotlib.pyplot as plt\n",
    "import random\n",
    "import seaborn as sns\n",
    "from sklearn.preprocessing import OrdinalEncoder, MinMaxScaler, LabelEncoder\n",
    "from scipy.stats import zscore\n",
    "from sklearn.utils import shuffle\n",
    "from sklearn.model_selection import train_test_split\n",
    "import joblib\n",
    "from sklearn.linear_model import LogisticRegression\n",
    "from sklearn.svm import SVC\n",
    "from sklearn.ensemble import RandomForestClassifier\n",
    "from sklearn.neighbors import KNeighborsClassifier\n",
    "import xgboost as xgb\n",
    "from sklearn.metrics import *\n",
    "from sklearn.model_selection import RandomizedSearchCV, GridSearchCV, StratifiedKFold\n",
    "import pickle\n",
    "\n",
    "%matplotlib inline"
   ]
  },
  {
   "cell_type": "markdown",
   "id": "7e5279b3-832e-4ac3-84ae-e131c1c1a88e",
   "metadata": {},
   "source": [
    "# Loading Dataset"
   ]
  },
  {
   "cell_type": "markdown",
   "id": "324326ed-63fd-4e84-84f6-c839e23f926d",
   "metadata": {},
   "source": [
    "- read csv file path from uci repo\n",
    "- open csv file with pandas, to use pandas function "
   ]
  },
  {
   "cell_type": "code",
   "execution_count": 3,
   "id": "e53a9f77-1800-4136-9beb-0057c3602d0c",
   "metadata": {},
   "outputs": [
    {
     "name": "stdout",
     "output_type": "stream",
     "text": [
      "https://archive.ics.uci.edu/static/public/27/data.csv\n"
     ]
    }
   ],
   "source": [
    "# get dataset from uci repo \n",
    "creditApproval = fetch_ucirepo(id=27) \n",
    "\n",
    "# metadata - get csv file\n",
    "ca_csv = creditApproval.metadata.data_url\n",
    "print(ca_csv) "
   ]
  },
  {
   "cell_type": "markdown",
   "id": "c9101ff9-2418-4e84-a19c-c1b3012a52fe",
   "metadata": {},
   "source": [
    "## Reading Data into DataFrames"
   ]
  },
  {
   "cell_type": "code",
   "execution_count": null,
   "id": "72dfb274-2ba2-4f7d-b65b-93c6bb13558b",
   "metadata": {},
   "outputs": [],
   "source": [
    "# open csv file with pandas dataframe \n",
    "ca_df = pd.read_csv(ca_csv)\n",
    "\n",
    "ca_df"
   ]
  },
  {
   "cell_type": "markdown",
   "id": "71d224ed-7645-4089-a858-6a2f37de09e9",
   "metadata": {},
   "source": [
    "# Data Overview and Initial Inspection"
   ]
  },
  {
   "cell_type": "markdown",
   "id": "6b8609a8-d49b-49b0-90e1-dc910c5c41eb",
   "metadata": {},
   "source": [
    "## Data Shape ( Total Rows and Columns )"
   ]
  },
  {
   "cell_type": "code",
   "execution_count": null,
   "id": "65c40a74-2bcd-4ba5-bca7-9ad20d5b6c28",
   "metadata": {},
   "outputs": [],
   "source": [
    "# get the number of row and column by pandas ( row, col )\n",
    "ca_df.shape"
   ]
  },
  {
   "cell_type": "markdown",
   "id": "b4d0638e-895a-4244-8fa0-55fcc439d84c",
   "metadata": {},
   "source": [
    "## Column Names "
   ]
  },
  {
   "cell_type": "code",
   "execution_count": null,
   "id": "e5d6c6c4-d70f-48e5-ad9a-b96404726878",
   "metadata": {},
   "outputs": [],
   "source": [
    "# display all column name \n",
    "ca_df.columns.values"
   ]
  },
  {
   "cell_type": "markdown",
   "id": "b3975567-c282-4e44-bdaa-e2891c3dbfdd",
   "metadata": {},
   "source": [
    "#### Online resource explain"
   ]
  },
  {
   "cell_type": "markdown",
   "id": "d3969194-9b0a-43e8-b57f-98ab5d269c6c",
   "metadata": {},
   "source": [
    "The output may appear a bit confusing at its first sight, but let's try to figure out the most important features of a credit card application. The features of this dataset have been anonymized to protect the privacy, but **[this blog](https://rstudio-pubs-static.s3.amazonaws.com/73039_9946de135c0a49daa7a0a9eda4a67a72.html)** gives us a pretty good overview of the probable features. The probable features in a typical credit card application are Gender, Age, Debt, Married, BankCustomer, EducationLevel, Ethnicity, YearsEmployed, PriorDefault, Employed, CreditScore, DriversLicense, Citizen, ZipCode, Income and finally the ApprovalStatus. This gives us a pretty good starting point, and we can map these features with respect to the columns in the output.\n",
    "\n",
    "As we can see from our first glance at the data, the dataset has a mixture of numerical and non-numerical features. This can be fixed with some preprocessing, but before we do that, let's learn about the dataset a bit more to see if there are other dataset issues that need to be fixed."
   ]
  },
  {
   "cell_type": "markdown",
   "id": "0327ce95-1cd0-4ea1-b23f-1b94de05ee53",
   "metadata": {},
   "source": [
    "## Head of the Dataset "
   ]
  },
  {
   "cell_type": "code",
   "execution_count": null,
   "id": "20cee2bc-1179-4a7f-bd64-33fdd7c7fbf3",
   "metadata": {},
   "outputs": [],
   "source": [
    "# get first few row data \n",
    "ca_df.head(20)"
   ]
  },
  {
   "cell_type": "markdown",
   "id": "a89a6143-0e48-449d-84ad-60a2f3439e19",
   "metadata": {},
   "source": [
    "## Tail of the Dataset "
   ]
  },
  {
   "cell_type": "code",
   "execution_count": null,
   "id": "245dec7b-5949-44ba-b4f0-9f9e161656f3",
   "metadata": {},
   "outputs": [],
   "source": [
    "# get last few row data \n",
    "ca_df.tail(20)"
   ]
  },
  {
   "cell_type": "markdown",
   "id": "99dd0127-2b42-4011-8171-4fffe869934f",
   "metadata": {},
   "source": [
    "## Data Types"
   ]
  },
  {
   "cell_type": "code",
   "execution_count": null,
   "id": "f89ea02e-54cb-44b4-b85c-f62b7ec0ec87",
   "metadata": {},
   "outputs": [],
   "source": [
    "# check each col datatype \n",
    "ca_df.dtypes"
   ]
  },
  {
   "cell_type": "markdown",
   "id": "a3c39f24-2c45-4f96-b852-9a2ef2dcf84d",
   "metadata": {},
   "source": [
    "## Basic Structure Overview "
   ]
  },
  {
   "cell_type": "code",
   "execution_count": null,
   "id": "4273d33f-4b82-42e0-b68f-dcd4d8e76f7a",
   "metadata": {},
   "outputs": [],
   "source": [
    "# get the summary by dataframes structure \n",
    "ca_df.info()"
   ]
  },
  {
   "cell_type": "markdown",
   "id": "25df5535-78df-42a7-82d2-cceaaf8f8300",
   "metadata": {},
   "source": [
    "#### NOTE \n",
    "- ALL the datatype is correct and same with what we display justnow \n",
    "- 4 is in float, 2 in integer and 10 in object "
   ]
  },
  {
   "cell_type": "markdown",
   "id": "9d207784-03e8-4678-b9e0-c95623f34651",
   "metadata": {},
   "source": [
    "## Summary Statistics "
   ]
  },
  {
   "cell_type": "code",
   "execution_count": null,
   "id": "e4eba8e6-49d5-4a61-b5b4-3e8095d1ec81",
   "metadata": {},
   "outputs": [],
   "source": [
    "# view Categorical data columns statistics result\n",
    "ca_df.describe(include='object')"
   ]
  },
  {
   "cell_type": "code",
   "execution_count": null,
   "id": "8e0a86af-2808-4178-9e4e-3566acfa1106",
   "metadata": {},
   "outputs": [],
   "source": [
    "# view continuous data columns statistics result including min, max, mean and count \n",
    "ca_df.describe(exclude='object')"
   ]
  },
  {
   "cell_type": "markdown",
   "id": "3b81e131-26c0-446f-9d4c-7d437561cb2f",
   "metadata": {},
   "source": [
    "##### NOTE:\n",
    "- freq is the most common value’s frequency"
   ]
  },
  {
   "cell_type": "markdown",
   "id": "0aa25ac8-2f08-43d5-812a-061bc878ff56",
   "metadata": {},
   "source": [
    "## Check for Duplicate Rows"
   ]
  },
  {
   "cell_type": "code",
   "execution_count": null,
   "id": "ab2472c0-d163-4b5a-a4f0-0fbe3cf48a0c",
   "metadata": {},
   "outputs": [],
   "source": [
    "# get duplicated row \n",
    "print(\"Duplicated rows > \", ca_df.duplicated().sum())"
   ]
  },
  {
   "cell_type": "markdown",
   "id": "ee3e02ca-1be0-4bb0-8cdd-6ac720ba32b3",
   "metadata": {},
   "source": [
    "- no duplicated data exist"
   ]
  },
  {
   "cell_type": "markdown",
   "id": "a132a0f7-e4df-4f80-a256-5d4223419d6d",
   "metadata": {},
   "source": [
    "## Count of Unique Values per Column"
   ]
  },
  {
   "cell_type": "code",
   "execution_count": null,
   "id": "5022d398-a39f-40bf-bb90-0c7badd7600b",
   "metadata": {},
   "outputs": [],
   "source": [
    "# to understand each Categorical data column have what unique data \n",
    "for col in ca_df.select_dtypes('object').columns :\n",
    "    print(\"Column Name > \", col)\n",
    "    unique = ca_df[col].unique()\n",
    "    print(\"No of Unique Data > \", len(unique))\n",
    "    print(\"Unique Data Exist > \", unique)\n",
    "    print(\"\\n\")"
   ]
  },
  {
   "cell_type": "code",
   "execution_count": null,
   "id": "e7316f4c-ca3f-4b3f-acb2-6647386edbb9",
   "metadata": {},
   "outputs": [],
   "source": [
    "ca_df['A13'].unique()"
   ]
  },
  {
   "cell_type": "markdown",
   "id": "5e10d329-508e-43df-afcc-9bd09718dbd2",
   "metadata": {},
   "source": [
    "# Identify Missing Values"
   ]
  },
  {
   "cell_type": "code",
   "execution_count": null,
   "id": "22f8cf22-ffc4-49c6-9dc0-563590430c22",
   "metadata": {},
   "outputs": [],
   "source": [
    "ca_df.isnull().sum()"
   ]
  },
  {
   "cell_type": "markdown",
   "id": "074aa7d4-d4c7-409d-b65c-0fab70d725c0",
   "metadata": {},
   "source": [
    "#### NOTE \n",
    "- total 16 column and 7 column have missing value\n",
    "  - A1, 2, 4, 5, 6, 7, 14 ( MISSING VALUE )"
   ]
  },
  {
   "cell_type": "markdown",
   "id": "53296732-8459-41a4-9e1a-1f0c00a830ec",
   "metadata": {},
   "source": [
    "## Visualize Missingness "
   ]
  },
  {
   "cell_type": "code",
   "execution_count": null,
   "id": "d078cc00-974b-46a3-b206-c38369481c6c",
   "metadata": {},
   "outputs": [],
   "source": [
    "# ca_df['A1'].dtype\n",
    "ca_df.dtypes.unique()"
   ]
  },
  {
   "cell_type": "markdown",
   "id": "f39dfed8-6b26-4a9c-b8d8-7b6d0e27d80e",
   "metadata": {},
   "source": [
    "**[ How to change color for sns boxplot ](https://www.statology.org/seaborn-barplot-color/)**"
   ]
  },
  {
   "cell_type": "code",
   "execution_count": null,
   "id": "2fd891c9-8201-4df2-a55f-ff34a1e222f6",
   "metadata": {},
   "outputs": [],
   "source": [
    "missingData = ca_df.isna().sum()\n",
    "\n",
    "continuous = ca_df.select_dtypes(exclude='object')\n",
    "categorical = ca_df.select_dtypes(include='object')\n",
    "\n",
    "mdColor = ['yellow' if ca_df[x].dtype == 'O' else 'lightgreen' if ca_df[x].dtype == 'int64' else 'orange' for x in missingData.index]\n",
    "\n",
    "# plot graph\n",
    "sns.barplot(x=missingData.index, y=missingData.values, palette=mdColor)\n",
    "# sns.barplot(x=missingData.index, y=missingData.values, palette=mdColor, hue=ca_df.dtypes)\n",
    "\n",
    "legend_handles = [plt.Line2D([0], [0], color='yellow', lw=10, label='Object'),\n",
    "                  plt.Line2D([0], [0], color='lightgreen', lw=10, label='Int'),\n",
    "                  plt.Line2D([0], [0], color='orange', lw=10, label='Float')]\n",
    "\n",
    "plt.legend(title=\"Data Type\", bbox_to_anchor=(1, 1), handles=legend_handles)\n",
    "plt.title('Missing values count in each feature')\n",
    "plt.xlabel('Feature')\n",
    "plt.ylabel('Missing Values')\n",
    "\n",
    "plt.show()\n",
    "\n",
    "# Conclusion\n",
    "print(\"NULL Object > \", ca_df.select_dtypes('object').isna().sum().sum())\n",
    "print(\"NULL Int > \", ca_df.select_dtypes('int').isna().sum().sum())\n",
    "print(\"NULL Float > \", ca_df.select_dtypes('float').isna().sum().sum())"
   ]
  },
  {
   "cell_type": "markdown",
   "id": "9969697a-9640-44b5-ac2b-e33dc984acf0",
   "metadata": {},
   "source": [
    "# Data Visualization"
   ]
  },
  {
   "cell_type": "markdown",
   "id": "01ed9584-eed5-477c-8b43-7743a4791be5",
   "metadata": {},
   "source": [
    "## Data Distribution"
   ]
  },
  {
   "cell_type": "markdown",
   "id": "7c404083-ae7f-42a7-89fe-a8f76550bccd",
   "metadata": {},
   "source": [
    "### Pie Chart ( Categorical Data )\n",
    "\n",
    "- categorical data\n",
    "  - how many category\n",
    "  - each category how many percentage"
   ]
  },
  {
   "cell_type": "code",
   "execution_count": null,
   "id": "165df5d0-93a2-426f-b6fc-c6967298c4c0",
   "metadata": {},
   "outputs": [],
   "source": [
    "# show out all column with categorical data \n",
    "ca_df.describe(include='object')"
   ]
  },
  {
   "cell_type": "code",
   "execution_count": null,
   "id": "de9e1262-74eb-41a7-b20c-e805e6cf05f4",
   "metadata": {},
   "outputs": [],
   "source": [
    "colorMap = [\n",
    "            '#7695FF',\n",
    "            '#9DBDFF',\n",
    "            '#FF9874', \n",
    "            '#FFD7C4',\n",
    "            '#F6E96B', \n",
    "            '#BEDC74',\n",
    "            '#A2CA71',\n",
    "            '#FF8C9E',\n",
    "            '#FF8225', \n",
    "            '#EF5A6F', \n",
    "            '#6C946F',\n",
    "            '#E68369',\n",
    "            '#DCA47C', \n",
    "            '#36BA98'\n",
    "            ]\n",
    "\n",
    "def colorShuffle():\n",
    "    random.shuffle(colorMap)\n",
    "\n",
    "len(colorMap)"
   ]
  },
  {
   "cell_type": "code",
   "execution_count": null,
   "id": "9261163b-72c1-4d3f-b62f-9c2ac227affa",
   "metadata": {},
   "outputs": [],
   "source": [
    "# function for control the auto percentage format \n",
    "def autopct_format(percentage, values):\n",
    "    # sum the category a and b together and get total \n",
    "    total = sum(values)\n",
    "\n",
    "    # convert percentage back to number \n",
    "    val = int(round(percentage*total/100.0))\n",
    "    \n",
    "    return f'{percentage:.2f}%  ({val:d})' # .2%, two decimal point, the other 2 % is the format \n",
    "\n",
    "def plotPieChart(col, figsize):\n",
    "    # get the category exist in the col and distribute of the data \n",
    "    dis = ca_df[col].value_counts()\n",
    "    \n",
    "    colorShuffle()\n",
    "\n",
    "    plt.figure(figsize=figsize) \n",
    "    plt.pie(dis, labels=dis.index, autopct=lambda percentage: autopct_format(percentage, dis), colors=colorMap) \n",
    "    plt.title(f\"Distribution of Category Data {col}\")\n",
    "    plt.legend(title=f\"Category of {col}\")\n",
    "    plt.show() "
   ]
  },
  {
   "cell_type": "code",
   "execution_count": null,
   "id": "3db33a5b-9eed-45ff-9eca-95280775a657",
   "metadata": {},
   "outputs": [],
   "source": [
    "# create a pie chart \n",
    "plotPieChart('A1', (10,8))"
   ]
  },
  {
   "cell_type": "code",
   "execution_count": null,
   "id": "3b9adfc9-01cd-4e8b-a801-1595f60afa22",
   "metadata": {},
   "outputs": [],
   "source": [
    "# create a pie chart \n",
    "plotPieChart('A4', (10,8))"
   ]
  },
  {
   "cell_type": "code",
   "execution_count": null,
   "id": "0d831d8c-83ba-466e-8326-8db25c1f6802",
   "metadata": {},
   "outputs": [],
   "source": [
    "# create a pie chart \n",
    "plotPieChart('A5', (10,8))"
   ]
  },
  {
   "cell_type": "code",
   "execution_count": null,
   "id": "5016d8f7-13d5-4935-b955-f275ca41e1a8",
   "metadata": {},
   "outputs": [],
   "source": [
    "# create a pie chart \n",
    "plotPieChart('A6', (11,10))"
   ]
  },
  {
   "cell_type": "code",
   "execution_count": null,
   "id": "33b03597-3d3c-4f44-9d0c-128e339d731c",
   "metadata": {},
   "outputs": [],
   "source": [
    "# get the category exist in the col A7 and distribute of the data \n",
    "aseven_dis = ca_df['A7'].value_counts()\n",
    "\n",
    "colorShuffle()\n",
    "\n",
    "# set explode value\n",
    "# explode the small distribution category so can clearly visualize it \n",
    "explode = (0, 0, 0, 0, 0.2, 0.2, 0.2, 0.2, 0.2)\n",
    "\n",
    "# create a pie chart \n",
    "plt.figure(figsize=(11,10)) \n",
    "plt.pie(aseven_dis, labels=aseven_dis.index, autopct=lambda percentage: autopct_format(percentage, aseven_dis), colors=colorMap, explode=explode) \n",
    "plt.title(\"Distribution of Category Data A7\")\n",
    "plt.legend(title=\"Category of A7\")\n",
    "plt.show() "
   ]
  },
  {
   "cell_type": "code",
   "execution_count": null,
   "id": "6f539005-3b57-4ee2-ace3-1d990def396a",
   "metadata": {},
   "outputs": [],
   "source": [
    "# create a pie chart \n",
    "plotPieChart('A9', (10,8))"
   ]
  },
  {
   "cell_type": "code",
   "execution_count": null,
   "id": "6eb5ec17-9abd-4918-952f-2ed080d47d70",
   "metadata": {},
   "outputs": [],
   "source": [
    "# create a pie chart \n",
    "plotPieChart('A10', (10,8))"
   ]
  },
  {
   "cell_type": "code",
   "execution_count": null,
   "id": "0086e3ab-e0ef-41f4-ab4f-24620b149a18",
   "metadata": {},
   "outputs": [],
   "source": [
    "# create a pie chart \n",
    "plotPieChart('A12', (10,8))"
   ]
  },
  {
   "cell_type": "code",
   "execution_count": null,
   "id": "1524a0c5-86bc-44ad-9678-d1516a8f0398",
   "metadata": {},
   "outputs": [],
   "source": [
    "# create a pie chart \n",
    "plotPieChart('A13', (10,8))"
   ]
  },
  {
   "cell_type": "code",
   "execution_count": null,
   "id": "a44f7150-0b57-409b-be07-df90e236e76c",
   "metadata": {},
   "outputs": [],
   "source": [
    "# create a pie chart \n",
    "plotPieChart('A16', (10,8))"
   ]
  },
  {
   "cell_type": "markdown",
   "id": "372ced75-6f4e-4fb8-9b53-5c140982c5f7",
   "metadata": {},
   "source": [
    "### Heatmap ( Categorical Data )\n",
    "- A9, 10, 12\n",
    "\n",
    "> due to **A1 have missing value**, so here only show 678 data <br>\n",
    "> if want to change can using A16 to change "
   ]
  },
  {
   "cell_type": "code",
   "execution_count": null,
   "id": "019db4f2-7ee8-4041-b26d-02afe3b3a871",
   "metadata": {},
   "outputs": [],
   "source": [
    "cpy_df = ca_df.copy()\n",
    "\n",
    "# Combine A9 and A10 and A12 to create a unique key\n",
    "cpy_df['A9_A10_A12'] = cpy_df['A9'].astype(str) + \"_\" + cpy_df['A10'].astype(str) + \"_\" + cpy_df['A12'].astype(str)\n",
    "\n",
    "# Create a pivot table with A1 as values and A9_A10 as columns\n",
    "pivot_table = cpy_df.pivot_table(index='A16', columns='A9_A10_A12', aggfunc='size', fill_value=0)\n",
    "\n",
    "# Plot the heatmap\n",
    "plt.figure(figsize=(12, 8))\n",
    "sns.heatmap(pivot_table, cmap=\"YlGnBu\", annot=True, fmt='d')\n",
    "plt.title(\"Heatmap of A16 by A9, A10, A12 Combination\")\n",
    "plt.xlabel(\"A9_A10_A12 Combination\")\n",
    "plt.ylabel(\"A16\")\n",
    "plt.show()"
   ]
  },
  {
   "cell_type": "markdown",
   "id": "58c772e5-3407-4eeb-a228-96c5fba12c32",
   "metadata": {},
   "source": [
    "### Histogram with Box Plot ( Continuous data )\n",
    "- To show both the distribution (via histogram) and summary statistics (via box plot) together for a comprehensive view\n",
    "- Histogram ( shape of distribution )\n",
    "- Box Plot ( outlier and spread )"
   ]
  },
  {
   "cell_type": "code",
   "execution_count": null,
   "id": "9034bb2c-18b4-4f9c-879a-01c8107db3a1",
   "metadata": {},
   "outputs": [],
   "source": [
    "# get all columns with continuous data \n",
    "ca_df.describe(exclude=[\"object\"])"
   ]
  },
  {
   "cell_type": "code",
   "execution_count": null,
   "id": "6e481d21-412d-4f6f-b9eb-dbfd40a075f4",
   "metadata": {},
   "outputs": [],
   "source": [
    "sns.set_theme(style=\"darkgrid\")\n",
    "\n",
    "def plotHistBP(col) :\n",
    "    x = ca_df[col]\n",
    "\n",
    "    f, (ax_box, ax_hist) = plt.subplots(2, sharex=True, gridspec_kw={\"height_ratios\": (.15, .85)})\n",
    "\n",
    "    # box plot \n",
    "    sns.boxplot(x=x, ax=ax_box, color='lightblue')\n",
    "    \n",
    "    # histogram \n",
    "    sns.histplot(x=x, bins=20, kde=True, ax=ax_hist, color='blue', edgecolor='black')\n",
    "    \n",
    "    ax_box.set(yticks=[])\n",
    "    sns.despine(ax=ax_hist)\n",
    "    sns.despine(ax=ax_box, left=True)\n",
    "    \n",
    "    plt.title(f\"Distribution of Continuous data {col}\")\n",
    "    \n",
    "    plt.show()"
   ]
  },
  {
   "cell_type": "code",
   "execution_count": null,
   "id": "2a867e05-da95-438e-bf97-d1f1a8c7ad6e",
   "metadata": {},
   "outputs": [],
   "source": [
    "# create histogram with box plot graph\n",
    "plotHistBP('A2')"
   ]
  },
  {
   "cell_type": "code",
   "execution_count": null,
   "id": "c6980284-78a1-4a58-8b7a-175bac526bdf",
   "metadata": {},
   "outputs": [],
   "source": [
    "# create histogram with box plot graph\n",
    "plotHistBP('A3')"
   ]
  },
  {
   "cell_type": "code",
   "execution_count": null,
   "id": "31036cca-fd2b-4ee5-809a-5822ce711d66",
   "metadata": {},
   "outputs": [],
   "source": [
    "# create histogram with box plot graph\n",
    "plotHistBP('A8')"
   ]
  },
  {
   "cell_type": "code",
   "execution_count": null,
   "id": "09d3445a-ea45-411c-8c07-366c34ec2894",
   "metadata": {},
   "outputs": [],
   "source": [
    "# create histogram with box plot graph\n",
    "plotHistBP('A11')"
   ]
  },
  {
   "cell_type": "code",
   "execution_count": null,
   "id": "91f0fd24-035b-40ea-8401-d1fc913d298a",
   "metadata": {},
   "outputs": [],
   "source": [
    "# create histogram with box plot graph\n",
    "plotHistBP('A14')"
   ]
  },
  {
   "cell_type": "code",
   "execution_count": null,
   "id": "4aaa5439-1bf6-4849-b49f-55e8b65125a7",
   "metadata": {},
   "outputs": [],
   "source": [
    "# create histogram with box plot graph\n",
    "plotHistBP('A15')"
   ]
  },
  {
   "cell_type": "markdown",
   "id": "333357f1-8e87-4fdc-99c2-a20e8a3d1131",
   "metadata": {},
   "source": [
    "## Bivariate Analysis "
   ]
  },
  {
   "cell_type": "markdown",
   "id": "d280f9e6-80e2-4281-b336-1b2e5c5b68eb",
   "metadata": {},
   "source": [
    "### Box Plots for Continuous vs Categorical Variables"
   ]
  },
  {
   "cell_type": "code",
   "execution_count": null,
   "id": "89cad1c8-600d-435a-8666-ade656123735",
   "metadata": {},
   "outputs": [],
   "source": [
    "def plotBoxPlot(y) :\n",
    "    plt.figure(figsize=(8, 6))\n",
    "\n",
    "    # Box plot\n",
    "    sns.boxplot(x='A16', y=y, data=ca_df)\n",
    "\n",
    "    # Overlay strip plot for individual data points\n",
    "    sns.stripplot(x='A16', y=y, data=ca_df, color='red', jitter=True, size=3, alpha=1)\n",
    "    # alpha = opacity  \n",
    "    plt.title(f'Box Plot of {y} VS A16 with Data Points')\n",
    "    plt.xlabel('A16 (Credit Approval: 0 = Yes, 1 = No)')\n",
    "    plt.ylabel(f'{y} (Continuous Feature)')\n",
    "    plt.show()"
   ]
  },
  {
   "cell_type": "markdown",
   "id": "10285330-5c75-4e28-b928-3c422f5df1c0",
   "metadata": {},
   "source": [
    "- y = A2 ( continuous )\n",
    "- x = A16 ( categorical ) ( target ) "
   ]
  },
  {
   "cell_type": "code",
   "execution_count": null,
   "id": "d6b1da82-8432-4fe3-82fb-a3cd11818853",
   "metadata": {},
   "outputs": [],
   "source": [
    "plotBoxPlot('A2')"
   ]
  },
  {
   "cell_type": "code",
   "execution_count": null,
   "id": "32edd42f-2ce5-442e-a731-f49b36b2ca66",
   "metadata": {},
   "outputs": [],
   "source": [
    "plotBoxPlot('A3')"
   ]
  },
  {
   "cell_type": "code",
   "execution_count": null,
   "id": "029ba039-d9c1-47ad-bc0f-9a76340f3010",
   "metadata": {},
   "outputs": [],
   "source": [
    "plotBoxPlot('A8')"
   ]
  },
  {
   "cell_type": "code",
   "execution_count": null,
   "id": "26cb524b-fded-4d28-9792-f3e414666fb9",
   "metadata": {},
   "outputs": [],
   "source": [
    "plotBoxPlot('A14')"
   ]
  },
  {
   "cell_type": "markdown",
   "id": "c826175b-d75d-4398-ac61-2130bc9061b1",
   "metadata": {},
   "source": [
    "### Bar Plot For Categorical vs Categorical"
   ]
  },
  {
   "cell_type": "code",
   "execution_count": null,
   "id": "f5be3aaa-00cd-462d-8cb4-86804f06d401",
   "metadata": {},
   "outputs": [],
   "source": [
    "def plotBarPlot(y, figsize) :\n",
    "    colorShuffle()\n",
    "\n",
    "    color = colorMap.copy()\n",
    "    \n",
    "    # set x-axis and hue order\n",
    "    x = ca_df['A16'].value_counts().sort_index().index\n",
    "    hue = ca_df[y].value_counts().sort_index().index\n",
    "    \n",
    "    # create graph\n",
    "    plt.figure(figsize=figsize) \n",
    "    sns.set_theme(style=\"darkgrid\")\n",
    "    ax = sns.countplot(data=ca_df, x=\"A16\", hue=y, order=x, hue_order=hue, palette=[color.pop(int(random.random() * len(color))) for x in range(len(hue))])\n",
    "    ax.legend(title=f\"Category of {y}\")\n",
    "    plt.title(f'Box Plot of {y} VS A16 with Data Points')\n",
    "    plt.xlabel('A16 (Credit Approval: 0 = Yes, 1 = No)')\n",
    "    plt.ylabel(f'Number of {y} (Categorical Feature)')\n",
    "    \n",
    "    # Add the exact number of instances on each bar\n",
    "    for container in ax.containers:\n",
    "        ax.bar_label(container, fmt='%d', label_type='edge')\n",
    "    \n",
    "    plt.show()"
   ]
  },
  {
   "cell_type": "code",
   "execution_count": null,
   "id": "14b193f8-cab5-4b52-bc67-e52facff7fa2",
   "metadata": {},
   "outputs": [],
   "source": [
    "plotBarPlot('A1', (10,10))"
   ]
  },
  {
   "cell_type": "code",
   "execution_count": null,
   "id": "86f1ba93-ef7f-4606-9249-09c395802889",
   "metadata": {},
   "outputs": [],
   "source": [
    "plotBarPlot('A4', (10,10))"
   ]
  },
  {
   "cell_type": "code",
   "execution_count": null,
   "id": "d3efa9ac-ff0f-4d09-b95d-efd27fa89a12",
   "metadata": {},
   "outputs": [],
   "source": [
    "plotBarPlot('A5', (10,10))"
   ]
  },
  {
   "cell_type": "code",
   "execution_count": null,
   "id": "081da214-2783-4935-82fc-cfd8445782e7",
   "metadata": {},
   "outputs": [],
   "source": [
    "plotBarPlot('A6', (10,10))"
   ]
  },
  {
   "cell_type": "code",
   "execution_count": null,
   "id": "07bd81fe-151d-47f9-991a-48551e715e0f",
   "metadata": {},
   "outputs": [],
   "source": [
    "plotBarPlot('A9', (10,10))"
   ]
  },
  {
   "cell_type": "markdown",
   "id": "6b5e985b-ceee-405e-ae68-59898d4063ff",
   "metadata": {},
   "source": [
    "------------------------------------------------------------------------\n",
    "Data Preparation Start "
   ]
  },
  {
   "cell_type": "markdown",
   "id": "e5ed8f8a-61b0-4911-9e64-88bca953806a",
   "metadata": {},
   "source": [
    "# Data Cleaning"
   ]
  },
  {
   "cell_type": "markdown",
   "id": "b71f47c8-f0f4-4ab2-822c-4f9ca7570aac",
   "metadata": {},
   "source": [
    "## Handling Missing Value "
   ]
  },
  {
   "cell_type": "markdown",
   "id": "8b9840b7-2f64-42fb-bb3d-75a9f7ab63ed",
   "metadata": {},
   "source": [
    "### Imputing Missing Continuous Variable"
   ]
  },
  {
   "cell_type": "code",
   "execution_count": null,
   "id": "7f5f2644-d462-448b-a7fc-e506c328b702",
   "metadata": {},
   "outputs": [],
   "source": [
    "# view the distribution of A2 and A14 \n",
    "plotHistBP('A2')\n",
    "plotHistBP('A14')"
   ]
  },
  {
   "cell_type": "markdown",
   "id": "06ec858f-98aa-4d5c-868f-babbd3471710",
   "metadata": {},
   "source": [
    "- both A2 and A14 are right skewed so to prevent be affect by outlier, we are going to use MEDIAN"
   ]
  },
  {
   "cell_type": "code",
   "execution_count": null,
   "id": "c3642f40-3dd5-4bc9-8caf-6a1df99df52a",
   "metadata": {},
   "outputs": [],
   "source": [
    "# prepare function for imputing process\n",
    "def getNullRowByCol(col) : \n",
    "    # show all columns that input (eg A2) is NaN\n",
    "    # get True False map\n",
    "    return pd.isnull(ca_df[col])\n",
    "\n",
    "def replaceByMedian(col) : \n",
    "    # get the median of col\n",
    "    median = ca_df[col].median()\n",
    "\n",
    "    ca_df[col] = ca_df[col].fillna(median)\n",
    "\n",
    "def replaceByLOCF(col) : \n",
    "    # using Last Observation Carried Forward (LOCF) \n",
    "    ca_df[col] = ca_df[col].ffill()"
   ]
  },
  {
   "cell_type": "markdown",
   "id": "dafe15d9-8531-47dd-973d-effc8674772f",
   "metadata": {},
   "source": [
    "#### A2"
   ]
  },
  {
   "cell_type": "code",
   "execution_count": null,
   "id": "d0dbb69f-781d-4742-b9d4-553021ae9ac8",
   "metadata": {},
   "outputs": [],
   "source": [
    "bo = getNullRowByCol('A2')\n",
    "    \n",
    "# only display True\n",
    "ca_df[bo]"
   ]
  },
  {
   "cell_type": "code",
   "execution_count": null,
   "id": "05cd30d1-2b5a-4c6f-955e-69009acf4a72",
   "metadata": {},
   "outputs": [],
   "source": [
    "# CALL function to replace\n",
    "replaceByMedian('A2')\n",
    "\n",
    "# take a look on the result after imputing \n",
    "ca_df[bo]"
   ]
  },
  {
   "cell_type": "markdown",
   "id": "c03c02ab-66e7-4ea0-a200-7356dd6678e9",
   "metadata": {},
   "source": [
    "#### A14"
   ]
  },
  {
   "cell_type": "code",
   "execution_count": null,
   "id": "db1bc7b2-6317-441f-9bdf-673d9b3e09bc",
   "metadata": {},
   "outputs": [],
   "source": [
    "bo = getNullRowByCol('A14')\n",
    "\n",
    "# only display True\n",
    "ca_df[bo]"
   ]
  },
  {
   "cell_type": "code",
   "execution_count": null,
   "id": "befc168a-a5f4-4a0e-a0c2-c076ef515d65",
   "metadata": {},
   "outputs": [],
   "source": [
    "# CALL function to replace\n",
    "replaceByMedian('A14')\n",
    "\n",
    "# take a look on the result after imputing \n",
    "ca_df[bo]"
   ]
  },
  {
   "cell_type": "markdown",
   "id": "9fbe3841-aa82-45c3-894d-3a942d5ae62b",
   "metadata": {},
   "source": [
    "### Imputing Missing Categorical Variable"
   ]
  },
  {
   "cell_type": "markdown",
   "id": "449e0ad0-b247-4086-a1ef-199fcf7d9879",
   "metadata": {},
   "source": [
    "#### A1"
   ]
  },
  {
   "cell_type": "code",
   "execution_count": null,
   "id": "4e2f2eba-d257-4a79-94e6-20c284d6c7b3",
   "metadata": {},
   "outputs": [],
   "source": [
    "bo = getNullRowByCol('A1')\n",
    "\n",
    "# only display true\n",
    "ca_df[bo]"
   ]
  },
  {
   "cell_type": "code",
   "execution_count": null,
   "id": "aa972dfe-9ea3-4eff-a819-6bf30c78283e",
   "metadata": {},
   "outputs": [],
   "source": [
    "replaceByLOCF('A1')\n",
    "\n",
    "ca_df[bo]"
   ]
  },
  {
   "cell_type": "markdown",
   "id": "2c343693-62d6-4972-81d8-4abf5e917dfe",
   "metadata": {},
   "source": [
    "#### A4"
   ]
  },
  {
   "cell_type": "code",
   "execution_count": null,
   "id": "4e0c4253-c620-4b6a-afef-3cee1b9126d7",
   "metadata": {},
   "outputs": [],
   "source": [
    "bo = getNullRowByCol('A4')\n",
    "\n",
    "# only display true\n",
    "ca_df[bo]"
   ]
  },
  {
   "cell_type": "code",
   "execution_count": null,
   "id": "8a271ca3-cf47-49d9-857b-4577d1d26296",
   "metadata": {},
   "outputs": [],
   "source": [
    "replaceByLOCF('A4')\n",
    "\n",
    "ca_df[bo]"
   ]
  },
  {
   "cell_type": "markdown",
   "id": "8933f8c2-a3f6-4a9a-8a9f-6a5a10910769",
   "metadata": {},
   "source": [
    "#### A5"
   ]
  },
  {
   "cell_type": "code",
   "execution_count": null,
   "id": "bf272c74-f55a-40f3-974e-24d5df5550c3",
   "metadata": {},
   "outputs": [],
   "source": [
    "bo = getNullRowByCol('A5')\n",
    "\n",
    "# only display true\n",
    "ca_df[bo]"
   ]
  },
  {
   "cell_type": "code",
   "execution_count": null,
   "id": "cc202450-d5dc-48fe-8906-45f3ec747519",
   "metadata": {},
   "outputs": [],
   "source": [
    "replaceByLOCF('A5')\n",
    "\n",
    "ca_df[bo]"
   ]
  },
  {
   "cell_type": "markdown",
   "id": "ee246636-df7b-43ac-b18b-1dccc5dd2ce2",
   "metadata": {},
   "source": [
    "#### A6"
   ]
  },
  {
   "cell_type": "code",
   "execution_count": null,
   "id": "b10b5bd4-89ca-4aaa-be36-62c8474f1194",
   "metadata": {},
   "outputs": [],
   "source": [
    "bo = getNullRowByCol('A6')\n",
    "\n",
    "# only display true\n",
    "ca_df[bo]"
   ]
  },
  {
   "cell_type": "code",
   "execution_count": null,
   "id": "3b96f0c4-c2c7-4ea6-8562-1d3ef95e31d0",
   "metadata": {},
   "outputs": [],
   "source": [
    "replaceByLOCF('A6')\n",
    "\n",
    "ca_df[bo]"
   ]
  },
  {
   "cell_type": "markdown",
   "id": "0a29dafd-5c3f-4b68-89e7-3333633794fc",
   "metadata": {},
   "source": [
    "#### A7"
   ]
  },
  {
   "cell_type": "code",
   "execution_count": null,
   "id": "e2af872b-0f1c-475f-b927-817523a82c23",
   "metadata": {},
   "outputs": [],
   "source": [
    "bo = getNullRowByCol('A7')\n",
    "\n",
    "# only display true\n",
    "ca_df[bo]"
   ]
  },
  {
   "cell_type": "code",
   "execution_count": null,
   "id": "84d84f28-0c27-46a6-a800-56742e89386c",
   "metadata": {},
   "outputs": [],
   "source": [
    "replaceByLOCF('A7')\n",
    "\n",
    "ca_df[bo]"
   ]
  },
  {
   "cell_type": "markdown",
   "id": "5126df54-2a59-458c-9692-28ecd0e702cf",
   "metadata": {},
   "source": [
    "### Result after Handling Missing Value"
   ]
  },
  {
   "cell_type": "code",
   "execution_count": null,
   "id": "f6331335-9d98-4628-aa67-08e771f54167",
   "metadata": {},
   "outputs": [],
   "source": [
    "print(\"NULL Object > \", ca_df.select_dtypes('object').isna().sum().sum())\n",
    "print(\"NULL Int > \", ca_df.select_dtypes('int').isna().sum().sum())\n",
    "print(\"NULL Float > \", ca_df.select_dtypes('float').isna().sum().sum())"
   ]
  },
  {
   "cell_type": "markdown",
   "id": "59352b03-638e-4ff2-970e-2f00181bb56d",
   "metadata": {},
   "source": [
    "# Data Preprocessing"
   ]
  },
  {
   "cell_type": "markdown",
   "id": "3ac4d36a-7b9c-44f8-a602-260947972332",
   "metadata": {},
   "source": [
    "## Encode Categorical Data"
   ]
  },
  {
   "cell_type": "code",
   "execution_count": null,
   "id": "1439e119-32f1-4a31-a2a3-839a0bed0496",
   "metadata": {},
   "outputs": [],
   "source": [
    "# create a copy set for backup purpose -- have drop the feature\n",
    "backup_df = ca_df.copy()\n",
    "\n",
    "def getCopySet() : \n",
    "    return backup_df.copy()"
   ]
  },
  {
   "cell_type": "code",
   "execution_count": null,
   "id": "3f1eedea-6f39-48f5-9b8c-f40b9d700331",
   "metadata": {},
   "outputs": [],
   "source": [
    "# # reset the ca_df for testing purpose \n",
    "# ca_df = getCopySet()\n",
    "# ca_df"
   ]
  },
  {
   "cell_type": "code",
   "execution_count": null,
   "id": "e4e7453c-3e62-4bb0-aedb-a63bdd2abdb1",
   "metadata": {},
   "outputs": [],
   "source": [
    "# select all data type in object \n",
    "encodeList = ca_df.select_dtypes(include=\"object\")\n",
    "\n",
    "featureList = encodeList.drop(columns='A16')\n",
    "targetList = encodeList['A16']\n",
    "\n",
    "encodeList"
   ]
  },
  {
   "cell_type": "markdown",
   "id": "1f931a25-f379-45a0-bdc0-59b6a91da8ee",
   "metadata": {},
   "source": [
    "### Encoding Categorical Feature ( Ordinal Encoder )"
   ]
  },
  {
   "cell_type": "code",
   "execution_count": null,
   "id": "c9f75826-678d-4f0e-b05a-6fbc7355d1ee",
   "metadata": {},
   "outputs": [],
   "source": [
    "# encode categorical data with using OrdinalEncoder\n",
    "oencoder = OrdinalEncoder()\n",
    "\n",
    "categorical_columns = featureList.columns\n",
    "\n",
    "# encode in onces to prevent overwrite the status of encoder \n",
    "ca_df[categorical_columns] = oencoder.fit_transform(ca_df[categorical_columns])\n",
    "\n",
    "ca_df"
   ]
  },
  {
   "cell_type": "code",
   "execution_count": null,
   "id": "65ae0473-eeda-4db2-a8a8-43635d59d465",
   "metadata": {},
   "outputs": [],
   "source": [
    "# take a look on the encoder feature label for ensure all the feature at inside  \n",
    "print(oencoder.feature_names_in_)"
   ]
  },
  {
   "cell_type": "code",
   "execution_count": null,
   "id": "c8d29018-4e2b-4ff3-828b-9db3065fbaaa",
   "metadata": {},
   "outputs": [],
   "source": [
    "# store each feature value have been encoded to what value \n",
    "mappings = {}\n",
    "\n",
    "for col in categorical_columns:\n",
    "    # Store the mapping of original values to encoded values\n",
    "    # enumerate = convert to a list that have index number \n",
    "    # code, category = index and orginalLabel\n",
    "    mappings[col] = {category: code for code, category in enumerate(oencoder.categories_[categorical_columns.get_loc(col)])}"
   ]
  },
  {
   "cell_type": "markdown",
   "id": "82050bf1-5e55-49b6-b39c-aae6a10e674b",
   "metadata": {},
   "source": [
    "### Encoding Categorical Target ( Label Encoder )"
   ]
  },
  {
   "cell_type": "code",
   "execution_count": null,
   "id": "06ca66a4-ed88-473c-861d-a40481174466",
   "metadata": {},
   "outputs": [],
   "source": [
    "targetList.name"
   ]
  },
  {
   "cell_type": "code",
   "execution_count": null,
   "id": "4f7f8f68-40cd-4105-b16d-bf83c2fdc91c",
   "metadata": {},
   "outputs": [],
   "source": [
    "lencoder = LabelEncoder()\n",
    "\n",
    "ca_df[targetList.name] = lencoder.fit_transform(targetList)"
   ]
  },
  {
   "cell_type": "code",
   "execution_count": null,
   "id": "0455ad8d-3323-484a-ae1c-6fa3daae76e6",
   "metadata": {},
   "outputs": [],
   "source": [
    "# show the updated result \n",
    "ca_df"
   ]
  },
  {
   "cell_type": "markdown",
   "id": "e80eb7fe-2dc0-444b-8118-d4ceea71bdfd",
   "metadata": {},
   "source": [
    "### Label for Each Encode data"
   ]
  },
  {
   "cell_type": "code",
   "execution_count": null,
   "id": "bd795163-010c-4cd9-bac2-37ebf2e7dbe3",
   "metadata": {},
   "outputs": [],
   "source": [
    "# Display the mappings \n",
    "# each value have been encode to what value \n",
    "for col, mapping in mappings.items():\n",
    "    print(f\"Column: {col}\")\n",
    "    for original, encoded in mapping.items():\n",
    "        print(f\"  {original} -> {encoded}\")"
   ]
  },
  {
   "cell_type": "code",
   "execution_count": null,
   "id": "1675e48e-d272-4b33-81e6-696c0044349f",
   "metadata": {},
   "outputs": [],
   "source": [
    "print(f\"Column: A16\")\n",
    "for original, encoded in zip(lencoder.classes_, range(len(lencoder.classes_))):\n",
    "    print(f\"  {original} -> {encoded}\")"
   ]
  },
  {
   "cell_type": "markdown",
   "id": "f230f825-00c0-42da-8cda-28fdd55512df",
   "metadata": {},
   "source": [
    "### Export Encoder For Further Use"
   ]
  },
  {
   "cell_type": "code",
   "execution_count": null,
   "id": "08006425-c9c2-4f16-8d97-bbf9713771cb",
   "metadata": {},
   "outputs": [],
   "source": [
    "print(f\"{joblib.dump(oencoder, 'pklFolder/featureEncoder.pkl')}\")\n",
    "\n",
    "print(f\"{joblib.dump(lencoder, 'pklFolder/targetEncoder.pkl')}\")"
   ]
  },
  {
   "cell_type": "markdown",
   "id": "1adc7a15-c400-4de8-b07b-2b4153e80ccf",
   "metadata": {},
   "source": [
    "## Data Discovery and Profiling"
   ]
  },
  {
   "cell_type": "markdown",
   "id": "bb861913-a96f-44b9-9f17-38950ba94258",
   "metadata": {},
   "source": [
    "### Correlation Analysis with Pairplots\n",
    "\n",
    "https://study.com/academy/lesson/scatter-plot-and-correlation-definition-example-analysis.html#:~:text=A%20scatterplot%20with%20no%20correlation,pattern%2C%20neither%20positive%20nor%20negative.&text=The%20scatterplot%20shows%20haphazard%20points%20that%20follow%20no%20direction. "
   ]
  },
  {
   "cell_type": "code",
   "execution_count": null,
   "id": "5af73e96-435e-43fd-b34d-c8cae06b3dec",
   "metadata": {},
   "outputs": [],
   "source": [
    "plt.figure(figsize=(10, 10))\n",
    "sns.pairplot(ca_df)\n",
    "plt.show()"
   ]
  },
  {
   "cell_type": "markdown",
   "id": "a0ad2fe6-cd8e-42a4-b0ff-655ea3a1724b",
   "metadata": {},
   "source": [
    "### Correlation Matrix with Heatmap\n",
    "\n",
    "- +1: Perfect positive correlation (when one variable increases, the other increases proportionally).\n",
    "- 0: No correlation (no relationship between variables).\n",
    "- -1: Perfect negative correlation (when one variable increases, the other decreases proportionally)."
   ]
  },
  {
   "cell_type": "code",
   "execution_count": null,
   "id": "abd3bd08-ec6f-42d3-a6e7-83c23846df44",
   "metadata": {},
   "outputs": [],
   "source": [
    "correlation_matrix = ca_df.corr()"
   ]
  },
  {
   "cell_type": "code",
   "execution_count": null,
   "id": "a8770ea9-5e4b-4db4-a578-803705e2c9d2",
   "metadata": {},
   "outputs": [],
   "source": [
    "# use heatmap to know the correlation between x\n",
    "plt.figure(figsize=(15, 10))\n",
    "sns.heatmap(correlation_matrix, cmap='coolwarm', annot=True)\n",
    "plt.show()"
   ]
  },
  {
   "cell_type": "markdown",
   "id": "187f258c-7b73-42a7-91bd-d33f3b424de7",
   "metadata": {},
   "source": [
    "### Remove weak relationship feature "
   ]
  },
  {
   "cell_type": "code",
   "execution_count": null,
   "id": "8c3a643e-c9e1-4610-afe6-b0e5275687b9",
   "metadata": {},
   "outputs": [],
   "source": [
    "# get the range of relationship need to be keep \n",
    "strong_corr = correlation_matrix[(correlation_matrix > 0.04) | (correlation_matrix < -0.04)]\n",
    "\n",
    "# convert all weak relationship become true by using true false map\n",
    "checkWeak = strong_corr.isnull()\n",
    "\n",
    "# do filter on only get the weak relationship row\n",
    "checkWeak = checkWeak[checkWeak['A16'] == True]\n",
    "\n",
    "# view result\n",
    "checkWeak"
   ]
  },
  {
   "cell_type": "code",
   "execution_count": null,
   "id": "5117943b-0f1c-4b4b-a06d-8e2e184d9b75",
   "metadata": {},
   "outputs": [],
   "source": [
    "# drop columns\n",
    "ca_df = ca_df.drop(columns=checkWeak.index)\n",
    "\n",
    "ca_df"
   ]
  },
  {
   "cell_type": "markdown",
   "id": "3275ebd1-0d7e-435d-a049-1f2264af804b",
   "metadata": {},
   "source": [
    "## Re-encode Categorical Data \n",
    "- re-encode due to drop the columns"
   ]
  },
  {
   "cell_type": "code",
   "execution_count": null,
   "id": "7ff441f1-43a9-4387-87c4-73fd7cc359a5",
   "metadata": {},
   "outputs": [],
   "source": [
    "# use backup to get the dataframe that consist value havent be encode \n",
    "new_df = backup_df[ca_df.columns].copy()\n",
    "\n",
    "# select all data type in object \n",
    "encodeList = new_df.select_dtypes(include=\"object\")\n",
    "\n",
    "featureList = encodeList.drop(columns='A16')\n",
    "targetList = encodeList['A16']\n",
    "\n",
    "encodeList"
   ]
  },
  {
   "cell_type": "markdown",
   "id": "fe012dc4-b866-4be5-b0c1-15f9dfa3c7c3",
   "metadata": {},
   "source": [
    "### Encoding Categorical Feature ( Ordinal Encoder )\n",
    "- ordinal encoder is to encode the categorical feature from A1 - A15"
   ]
  },
  {
   "cell_type": "code",
   "execution_count": null,
   "id": "64565728-c75c-4761-83fd-fd78e21e240c",
   "metadata": {},
   "outputs": [],
   "source": [
    "# encode categorical data with using OrdinalEncoder\n",
    "oencoder = OrdinalEncoder()\n",
    "\n",
    "categorical_columns = featureList.columns\n",
    "\n",
    "# encode in onces to prevent overwrite the status of encoder \n",
    "new_df[categorical_columns] = oencoder.fit_transform(new_df[categorical_columns])\n",
    "\n",
    "new_df"
   ]
  },
  {
   "cell_type": "code",
   "execution_count": null,
   "id": "c1da51dc-1ef9-440f-b5e7-5093bc242359",
   "metadata": {},
   "outputs": [],
   "source": [
    "# take a look on the encoder feature label for ensure all the feature at inside  \n",
    "print(oencoder.feature_names_in_)"
   ]
  },
  {
   "cell_type": "code",
   "execution_count": null,
   "id": "5fceffb4-8a8c-4b04-a60a-10a90d39fed8",
   "metadata": {},
   "outputs": [],
   "source": [
    "# store each feature value have been encoded to what value \n",
    "mappings = {}\n",
    "\n",
    "for col in categorical_columns:\n",
    "    # Store the mapping of original values to encoded values\n",
    "    # enumerate = convert to a list that have index number \n",
    "    # code, category = index and orginalLabel\n",
    "    mappings[col] = {category: code for code, category in enumerate(oencoder.categories_[categorical_columns.get_loc(col)])}"
   ]
  },
  {
   "cell_type": "markdown",
   "id": "fbd94b90-2584-488a-bd95-2c6a94268f81",
   "metadata": {},
   "source": [
    "### Encoding Categorical Target ( Label Encoder )"
   ]
  },
  {
   "cell_type": "code",
   "execution_count": null,
   "id": "36251544-9f47-4a2f-94f1-591ac8f8eaf4",
   "metadata": {},
   "outputs": [],
   "source": [
    "targetList.name"
   ]
  },
  {
   "cell_type": "code",
   "execution_count": null,
   "id": "d1ff67aa-db7e-4f1d-bc30-b4e9507b83c4",
   "metadata": {},
   "outputs": [],
   "source": [
    "# no need to refit again\n",
    "new_df[targetList.name] = lencoder.transform(targetList)"
   ]
  },
  {
   "cell_type": "code",
   "execution_count": null,
   "id": "c2416e82-649b-4569-8e82-e3c26b7e3cf0",
   "metadata": {},
   "outputs": [],
   "source": [
    "# show the updated result \n",
    "new_df"
   ]
  },
  {
   "cell_type": "markdown",
   "id": "1140d2b8-f3df-4a13-9f13-a3aaba9607c3",
   "metadata": {},
   "source": [
    "### Overwrite the old dataframe to ensure consistent"
   ]
  },
  {
   "cell_type": "code",
   "execution_count": null,
   "id": "0dbc7328-0741-4033-8c7e-718b9556b477",
   "metadata": {},
   "outputs": [],
   "source": [
    "# overwrite the ca_df become new_df\n",
    "ca_df = new_df\n",
    "\n",
    "print(f\"The new ordinal encoder feature name consist is > {oencoder.feature_names_in_} \\n\")\n",
    "print(f\"New after drop weak feature and re-encode the data, the dataframe show as > \")\n",
    "display(ca_df)"
   ]
  },
  {
   "cell_type": "markdown",
   "id": "884f0d5c-3e1a-4aac-b5ed-90b0b8493252",
   "metadata": {},
   "source": [
    "### Label for Each Encode data"
   ]
  },
  {
   "cell_type": "code",
   "execution_count": null,
   "id": "301646ef-8faa-4730-b348-d1cba4f4a63b",
   "metadata": {},
   "outputs": [],
   "source": [
    "# Display the mappings \n",
    "# each value have been encode to what value \n",
    "for col, mapping in mappings.items():\n",
    "    print(f\"Column: {col}\")\n",
    "    for original, encoded in mapping.items():\n",
    "        print(f\"  {original} -> {encoded}\")"
   ]
  },
  {
   "cell_type": "code",
   "execution_count": null,
   "id": "cdb8224e-7b88-4b2a-91e8-0867c7989fd6",
   "metadata": {},
   "outputs": [],
   "source": [
    "print(f\"Column: A16\")\n",
    "for original, encoded in zip(lencoder.classes_, range(len(lencoder.classes_))):\n",
    "    print(f\"  {original} -> {encoded}\")"
   ]
  },
  {
   "cell_type": "markdown",
   "id": "48a77bc0-5204-44db-b955-9044618a753b",
   "metadata": {},
   "source": [
    "### Export Encoder For Further Use"
   ]
  },
  {
   "cell_type": "code",
   "execution_count": null,
   "id": "fcc1d24b-7f75-4dfa-9633-d937ed1fc908",
   "metadata": {},
   "outputs": [],
   "source": [
    "print(f\"{joblib.dump(oencoder, 'pklFolder/featureEncoder.pkl')}\")\n",
    "\n",
    "print(f\"{joblib.dump(lencoder, 'pklFolder/targetEncoder.pkl')}\")"
   ]
  },
  {
   "cell_type": "markdown",
   "id": "6a74843a-d74e-46a0-b85b-ed44cb1f51f8",
   "metadata": {},
   "source": [
    "## Outlier Detection and Treatment"
   ]
  },
  {
   "cell_type": "markdown",
   "id": "17490e5d-2620-43f5-bd79-bd359120b703",
   "metadata": {},
   "source": [
    "### Detecting Outlier"
   ]
  },
  {
   "cell_type": "code",
   "execution_count": null,
   "id": "294cb3df-9e81-4a49-b3bc-a1447952bcbb",
   "metadata": {},
   "outputs": [],
   "source": [
    "# Compute Z-scores for numerical columns\n",
    "z_scores = np.abs(zscore(ca_df.select_dtypes(include=['float64', 'int64'])))\n",
    "\n",
    "# set threshold become 3.5 due to 3 have too much of outlier \n",
    "threshold = 3.5\n",
    "outliers_zscore = (z_scores > threshold)\n",
    "\n",
    "# Output the outlier rows\n",
    "outlier_indices = np.where(outliers_zscore)\n",
    "\n",
    "print(\"Outlier data points based on Z-score method:\")\n",
    "# outlier_indices = ([row number of outlier],[??])\n",
    "process_df = ca_df.iloc[outlier_indices[0]]\n",
    "\n",
    "display(process_df)\n",
    "print(f\"Total Number of Row of Outlier > {process_df.index.size}\")"
   ]
  },
  {
   "cell_type": "markdown",
   "id": "adcd06c8-0270-436d-a31a-6f36d5b8e2f0",
   "metadata": {
    "jp-MarkdownHeadingCollapsed": true
   },
   "source": [
    "check dont affect the categorical data that only hava lesser value \n",
    "- A13 > p ( 1 )\n",
    "- A7 > o ( 6 ), n ( 5 ), dd ( 1 ), z ( 8 ), j ( 4 ) ( drop )\n",
    "- A6 > r ( 11 ), j ( 7 )\n",
    "- A5 > gg ( 1 )\n",
    "- A4 > l ( 0 )"
   ]
  },
  {
   "cell_type": "code",
   "execution_count": null,
   "id": "e2b41a9a-5c6d-4df0-b52e-e00ced542635",
   "metadata": {},
   "outputs": [],
   "source": [
    "# set list due to data already been encoded\n",
    "notInclude = [[\"A13\", [ 1 ]],\n",
    "              [\"A6\", [11, 7]],\n",
    "              [\"A5\", [1]],\n",
    "              [\"A4\", [0]]]\n",
    "\n",
    "process_df = ca_df.iloc[outlier_indices[0]]\n",
    "\n",
    "for column, values_to_exclude in notInclude:\n",
    "    # exclude rows where the column value is in the values_to_exclude list\n",
    "    process_df = process_df[~process_df[column].isin(values_to_exclude)]\n",
    "\n",
    "display(process_df)\n",
    "print(f\"Total Number of Row of Outlier after Update > {process_df.index.size}\")"
   ]
  },
  {
   "cell_type": "markdown",
   "id": "8ff988fe-daa2-4414-a7a8-c1beb0c9ccb9",
   "metadata": {},
   "source": [
    "### Handling Outlier"
   ]
  },
  {
   "cell_type": "code",
   "execution_count": null,
   "id": "66b3e79b-265e-4781-ab17-ed4eb3a63ff2",
   "metadata": {},
   "outputs": [],
   "source": [
    "# drop all 32 rows \n",
    "ca_df = ca_df.drop(index=process_df.index)\n",
    "\n",
    "ca_df"
   ]
  },
  {
   "cell_type": "markdown",
   "id": "70dd1545-0cc7-4f9e-91e9-377bfa3ca337",
   "metadata": {},
   "source": [
    "## Splitting Data by using Train_Test Split\n",
    "- Stratified Sampling included "
   ]
  },
  {
   "cell_type": "code",
   "execution_count": null,
   "id": "bfaf875a-c4c4-4db2-afc1-4b2516f38af4",
   "metadata": {},
   "outputs": [],
   "source": [
    "# shuffle the A16 column data \n",
    "ca_df = shuffle(ca_df)"
   ]
  },
  {
   "cell_type": "code",
   "execution_count": null,
   "id": "ec8dea76-ff6e-43cd-8d0c-22635113c56a",
   "metadata": {},
   "outputs": [],
   "source": [
    "# export as csv file for further use \n",
    "ca_df.to_csv('csvDataFile/cleanData.csv', index=False) "
   ]
  },
  {
   "cell_type": "markdown",
   "id": "3a4b682d-ff44-4a21-85d9-0951f2655ccd",
   "metadata": {},
   "source": [
    "------------------------------------------------------------------\n",
    "# Test Model start from here "
   ]
  },
  {
   "cell_type": "code",
   "execution_count": null,
   "id": "8b9c6c92-313e-469d-8a9c-0fd03914f1f4",
   "metadata": {},
   "outputs": [],
   "source": [
    "# read again \n",
    "# clean_df = pd.read_csv('csvDataFile/cleanData.csv')\n",
    "clean_df = pd.read_csv('cleanData.csv')\n",
    "\n",
    "clean_df.shape"
   ]
  },
  {
   "cell_type": "code",
   "execution_count": null,
   "id": "93139f00-e6dc-427f-8e1c-403d9372d4c4",
   "metadata": {},
   "outputs": [],
   "source": [
    "# drop target columns\n",
    "x = clean_df.drop(columns=['A16']) \n",
    "y = clean_df['A16']"
   ]
  },
  {
   "cell_type": "code",
   "execution_count": null,
   "id": "74151dbd-354f-4315-8193-bf44c4769292",
   "metadata": {},
   "outputs": [],
   "source": [
    "x.head()"
   ]
  },
  {
   "cell_type": "code",
   "execution_count": null,
   "id": "7f06454a-6de3-4cb6-9288-786319d2d98d",
   "metadata": {},
   "outputs": [],
   "source": [
    "x = x.values\n",
    "\n",
    "x"
   ]
  },
  {
   "cell_type": "code",
   "execution_count": null,
   "id": "faa8466b-1f6a-49c8-9384-22f552cdfb4c",
   "metadata": {},
   "outputs": [],
   "source": [
    "x_train, x_test, y_train, y_test = train_test_split(x, y, stratify=y, test_size=0.20, random_state=0)\n",
    "# training using x_train and y_train"
   ]
  },
  {
   "cell_type": "code",
   "execution_count": null,
   "id": "7323dada-48de-4170-a7d8-fa0c2ad6bc8e",
   "metadata": {},
   "outputs": [],
   "source": [
    "print(f\"Size of x_train > {len(x_train)}\")\n",
    "print(f\"Size of x_test > {len(x_test)}\")"
   ]
  },
  {
   "cell_type": "markdown",
   "id": "bc3d7d42-ecc0-4d09-9713-5cd4f83a877a",
   "metadata": {},
   "source": [
    "## Data Scailing by using MinMaxScaler"
   ]
  },
  {
   "cell_type": "code",
   "execution_count": null,
   "id": "f4c1822e-b7ac-43e8-a3a1-f8d311c1ea58",
   "metadata": {},
   "outputs": [],
   "source": [
    "scaler = MinMaxScaler(feature_range=(0, 1))\n",
    "\n",
    "rescaledX_train = scaler.fit_transform(x_train)\n",
    "rescaledX_test = scaler.transform(x_test)\n",
    "\n",
    "print(rescaledX_train)"
   ]
  },
  {
   "cell_type": "markdown",
   "id": "56772711-c080-439f-a1ec-3bd2629eab3a",
   "metadata": {},
   "source": [
    "### Export Scaler For Future Use"
   ]
  },
  {
   "cell_type": "code",
   "execution_count": null,
   "id": "dd497d3d-4e5b-46c5-acd9-093d68fd02d9",
   "metadata": {},
   "outputs": [],
   "source": [
    "joblib.dump(scaler, 'pklFolder/scaler.pkl')"
   ]
  },
  {
   "cell_type": "markdown",
   "id": "171e8435-a3ab-44f3-85e4-7dbb7ad2edf2",
   "metadata": {},
   "source": [
    "# Modeling"
   ]
  },
  {
   "cell_type": "code",
   "execution_count": null,
   "id": "42e49e9e-3845-44ee-a24c-b6c651de43dc",
   "metadata": {},
   "outputs": [],
   "source": [
    "sns.set_theme(style=\"white\", palette=None)"
   ]
  },
  {
   "cell_type": "markdown",
   "id": "c8811c74-f5d6-4ca3-8152-145102938ef5",
   "metadata": {},
   "source": [
    "## Logistic Regression"
   ]
  },
  {
   "cell_type": "code",
   "execution_count": null,
   "id": "07824706-e6ad-4df6-b0ed-072586feeea3",
   "metadata": {},
   "outputs": [],
   "source": [
    "from sklearn.linear_model import LogisticRegression\n",
    "from sklearn.model_selection import GridSearchCV, RandomizedSearchCV, StratifiedKFold\n",
    "from sklearn.metrics import *\n",
    "import joblib"
   ]
  },
  {
   "cell_type": "code",
   "execution_count": null,
   "id": "f4e35404-8c25-406e-9993-d3de1451f322",
   "metadata": {},
   "outputs": [],
   "source": [
    "# create instance \n",
    "model = LogisticRegression()\n",
    "\n",
    "# fit set into model - train\n",
    "model.fit(rescaledX_train, y_train)"
   ]
  },
  {
   "cell_type": "code",
   "execution_count": null,
   "id": "c46d180f-f7de-4f89-ae6a-37788a319694",
   "metadata": {},
   "outputs": [],
   "source": [
    "# use test set and get the predicted result as return \n",
    "yPredTrain = model.predict(rescaledX_train)\n",
    "yPredTest = model.predict(rescaledX_test)"
   ]
  },
  {
   "cell_type": "markdown",
   "id": "47eaef73-68e4-418b-858d-b31051ca4325",
   "metadata": {},
   "source": [
    "### Check accuracy ( Score, RMSE, Confusion Matrix )"
   ]
  },
  {
   "cell_type": "code",
   "execution_count": null,
   "id": "9f617e8c-31d2-4672-9294-a70a67b7a06f",
   "metadata": {},
   "outputs": [],
   "source": [
    "# display the RMSE and accuracy for both test and train \n",
    "print(f\"Acurracy of Train Data > {accuracy_score(y_train, yPredTrain)}\")\n",
    "print(f\"RMSE for Train Data    > {np.sqrt(mean_squared_error(y_train, yPredTrain))}\")\n",
    "print(\"\\n\")\n",
    "print(f\"Acurracy of Test Data  > {accuracy_score(y_test, yPredTest)}\")\n",
    "print(f\"RMSE for Test Data     > {np.sqrt(mean_squared_error(y_test, yPredTest))}\")"
   ]
  },
  {
   "cell_type": "code",
   "execution_count": null,
   "id": "024dfdb8-4682-4411-bdbf-f47e38044f8b",
   "metadata": {},
   "outputs": [],
   "source": [
    "# show confusion matrix \n",
    "# get confusion matrix\n",
    "confusionMatrix = confusion_matrix(y_test, yPredTest)\n",
    "\n",
    "plt.figure()\n",
    "diagram = ConfusionMatrixDisplay(confusion_matrix=confusionMatrix, display_labels=['+', '-'])\n",
    "diagram.plot(cmap=plt.cm.Blues)\n",
    "plt.title('Confusion Matrix',fontsize=17)\n",
    "plt.show()"
   ]
  },
  {
   "cell_type": "code",
   "execution_count": null,
   "id": "9c0b8017-3264-4412-8e38-1765a7d35f37",
   "metadata": {},
   "outputs": [],
   "source": [
    "print(classification_report(y_test, yPredTest))"
   ]
  },
  {
   "cell_type": "markdown",
   "id": "ef37e982-b04f-4f8a-b1fa-ba3c1b23b040",
   "metadata": {},
   "source": [
    "### GridSearchCV"
   ]
  },
  {
   "cell_type": "code",
   "execution_count": null,
   "id": "45cabbd7-7573-460b-ae3a-2c1c8d6b4d43",
   "metadata": {},
   "outputs": [],
   "source": [
    "# define the parameter grid\n",
    "param_grid = {\n",
    "    'C': [0.0001, 0.001, 0.01, 0.1, 1, 10, 100, 1000],  # Different values for the regularization strength\n",
    "    'penalty': ['l1', 'l2', 'elasticnet', 'none'],  # Different types of penalties\n",
    "    'solver': ['saga', 'newton-cg', 'liblinear', 'sag', 'lbfgs'],  \n",
    "    'max_iter': [100, 150, 200, 500, 1000], \n",
    "    'l1_ratio': [0, 0.25, 0.5, 0.75, 1],\n",
    "    'tol' : [0.01, 0.001, 0.0001]\n",
    "}\n",
    "\n",
    "# liblinear suitable for small but sag and saga is suitable for largest and more faster \n",
    "# but for liblinear is not suitable for multiclass problem, only have newton-cg, lbfgs(default), sag and saga suitable for this case "
   ]
  },
  {
   "cell_type": "code",
   "execution_count": null,
   "id": "625de1e5-9272-40a4-a3aa-55b5fdaef2b6",
   "metadata": {},
   "outputs": [],
   "source": [
    "grid_search = GridSearchCV(estimator=model, param_grid=param_grid, cv=StratifiedKFold(n_splits=5), n_jobs=-1)\n",
    "# cv = 5 > 5-fold cross-validation\n",
    "# verbose = 1 > show progress\n",
    "# n_jobs = -1 > use all available cores"
   ]
  },
  {
   "cell_type": "code",
   "execution_count": null,
   "id": "00599463-f3f3-4480-b0a1-6eeefac92236",
   "metadata": {
    "scrolled": true
   },
   "outputs": [],
   "source": [
    "# fit in the data to find best comparision\n",
    "grid_model_result = grid_search.fit(rescaledX_train, y_train)"
   ]
  },
  {
   "cell_type": "code",
   "execution_count": null,
   "id": "275349f3-8297-435c-ae92-7506f0195128",
   "metadata": {},
   "outputs": [],
   "source": [
    "# display the best parameter\n",
    "print(f\"Best C        > {grid_model_result.best_estimator_.C}\")\n",
    "print(f\"Best penalty  > {grid_model_result.best_estimator_.penalty}\")\n",
    "print(f\"Best solver   > {grid_model_result.best_estimator_.solver}\")\n",
    "print(f\"Best max_iter > {grid_model_result.best_estimator_.max_iter}\")\n",
    "print(f\"Best l1_ratio > {grid_model_result.best_estimator_.l1_ratio}\")\n",
    "print(f\"Best tol      > {grid_model_result.best_estimator_.tol}\")\n",
    "\n",
    "print(f\"The best score get from grid > {grid_model_result.best_score_}\")"
   ]
  },
  {
   "cell_type": "code",
   "execution_count": null,
   "id": "92e6f557-b160-4c02-9dee-4f26d6da5fb5",
   "metadata": {},
   "outputs": [],
   "source": [
    "# show testing performance \n",
    "yGridPredTrain = grid_model_result.predict(rescaledX_train)\n",
    "yGridPredTest = grid_model_result.predict(rescaledX_test)"
   ]
  },
  {
   "cell_type": "code",
   "execution_count": null,
   "id": "5833a6cd-cb57-4ba7-925d-479455dd4eb6",
   "metadata": {},
   "outputs": [],
   "source": [
    "# display the RMSE and accuracy for both test and train \n",
    "print(f\"Acurracy of Train Data after Grid > {accuracy_score(y_train, yGridPredTrain)}\")\n",
    "print(f\"RMSE for Train Data after Grid    > {np.sqrt(mean_squared_error(y_train, yPredTrain))}\")\n",
    "print(\"\\n\")\n",
    "print(f\"Acurracy of Test Data after Grid  > {accuracy_score(y_test, yGridPredTest)}\")\n",
    "print(f\"RMSE for Test Data after Grid     > {np.sqrt(mean_squared_error(y_test, yGridPredTest))}\")"
   ]
  },
  {
   "cell_type": "code",
   "execution_count": null,
   "id": "f819c8d0-702c-4d6f-a271-8d996eeed099",
   "metadata": {},
   "outputs": [],
   "source": [
    "# show confusion matrix \n",
    "# get confusion matrix\n",
    "confusionMatrix = confusion_matrix(y_test, yGridPredTest)\n",
    "\n",
    "plt.figure()\n",
    "diagram = ConfusionMatrixDisplay(confusion_matrix=confusionMatrix, display_labels=['+', '-'])\n",
    "diagram.plot(cmap=plt.cm.Blues)\n",
    "plt.title('Confusion Matrix', fontsize=17)\n",
    "plt.show()"
   ]
  },
  {
   "cell_type": "code",
   "execution_count": null,
   "id": "63baccf1-1a12-4f29-b62f-21c3df20d6e2",
   "metadata": {},
   "outputs": [],
   "source": [
    "print(classification_report(y_test, yGridPredTest))"
   ]
  },
  {
   "cell_type": "markdown",
   "id": "1025dc92-4968-426b-a708-1f5c5be37e1b",
   "metadata": {},
   "source": [
    "### Export For Future Use"
   ]
  },
  {
   "cell_type": "code",
   "execution_count": null,
   "id": "65afe1df-1064-44c9-8afe-ca97eafd94cd",
   "metadata": {},
   "outputs": [],
   "source": [
    "joblib.dump(grid_model_result, 'pklFolder/model/LogisticRegression.pkl')"
   ]
  },
  {
   "cell_type": "markdown",
   "id": "50ca6da5-8044-4efe-9736-020ecf54a4fe",
   "metadata": {},
   "source": [
    "## Support Vector Classification"
   ]
  },
  {
   "cell_type": "markdown",
   "id": "d3902f18-6175-4e17-ba4a-049933d41acd",
   "metadata": {},
   "source": [
    "- small value of c >>> will choose a larger margin hyperplane\n",
    "- \n",
    "large value of c >>> will choose a smaller margin hyperplan\n",
    "- \n",
    "However, the smaller the margin of the hyperplane, the higher the possibility to get a misclassified result. (Low accuracy)"
   ]
  },
  {
   "cell_type": "code",
   "execution_count": null,
   "id": "e05a6829-4aa4-4633-b544-fd0e26c0d310",
   "metadata": {},
   "outputs": [],
   "source": [
    "from sklearn.svm import SVC\n",
    "from sklearn.metrics import *\n",
    "from sklearn.model_selection import GridSearchCV\n",
    "\n",
    "import matplotlib.pyplot as plt\n",
    "import seaborn as sns\n",
    "import pickle"
   ]
  },
  {
   "cell_type": "code",
   "execution_count": null,
   "id": "12604547-62dc-4eca-a934-02bc716ab7e2",
   "metadata": {},
   "outputs": [],
   "source": [
    "clf = SVC()\n",
    "clf.fit(rescaledX_train, y_train)"
   ]
  },
  {
   "cell_type": "code",
   "execution_count": null,
   "id": "cfa26d3d-39a2-46fc-9d08-95f88556a3f8",
   "metadata": {},
   "outputs": [],
   "source": [
    "y_predTrain = clf.predict(rescaledX_train)\n",
    "y_predTest = clf.predict(rescaledX_test)"
   ]
  },
  {
   "cell_type": "markdown",
   "id": "4911e0b0",
   "metadata": {},
   "source": [
    "## Check Accuracy (Score, RMSE, Confusion Matrix)"
   ]
  },
  {
   "cell_type": "code",
   "execution_count": null,
   "id": "04306272",
   "metadata": {},
   "outputs": [],
   "source": [
    "print(f\"Accuracy of Train Data > {accuracy_score(y_train, y_predTrain)}\")\n",
    "print(f\"RMSE for Train Data    > {np.sqrt(mean_suqared_error(y_train, y_predTrain))}\")\n",
    "print(\"\\n\")\n",
    "print(f\"Accuracy of Test Data  > {accuracy_score(y_test, y_predTest)}\")\n",
    "print(f\"RMSE for Test Data     > {np.sqrt(mean_suqared_error(y_test, y_predTest))}\")"
   ]
  },
  {
   "cell_type": "code",
   "execution_count": null,
   "id": "44cf94f5",
   "metadata": {},
   "outputs": [],
   "source": [
    "cm = confusion_matrix(y_test, y_predTest)\n",
    "\n",
    "plt.figure()\n",
    "cm_diagram = ConfusionMatrixDisplay(confusion_matrix=cm, display_labels=['+'. '-'])\n",
    "cm_diagram.plot(cmap=plt.cm.Blues)\n",
    "plt.title('Confusion Matrix', fontsize=17)\n",
    "plt.show()"
   ]
  },
  {
   "cell_type": "code",
   "execution_count": null,
   "id": "82238d95",
   "metadata": {},
   "outputs": [],
   "source": [
    "print(classification_report(y_test, y_predTest))"
   ]
  },
  {
   "cell_type": "markdown",
   "id": "81e211ec-383e-4e68-bd24-b070de2bf791",
   "metadata": {},
   "source": [
    "### GridSearchCV"
   ]
  },
  {
   "cell_type": "code",
   "execution_count": null,
   "id": "19ea5b4a-f854-4593-8e7a-b9e2b8398488",
   "metadata": {},
   "outputs": [],
   "source": [
    "param_grid = {'C': [0.001, 0.01, 0.1, 1, 10, 45, 100, 1000],\n",
    "             'gamma': [1, 10, 45, 100, 1000],\n",
    "             'kernel': ['rbf', 'linear', 'poly', 'sigmoid']}\n",
    "\n",
    "grid = GridSearchCV(SVC(), param_grid, refit = True, verbose = 3, n_jobs=-1)\n",
    "\n",
    "grid.fit(rescaledX_train, y_train)"
   ]
  },
  {
   "cell_type": "code",
   "execution_count": null,
   "id": "45c5b39d-cd21-425f-b92a-70924c0a05f7",
   "metadata": {},
   "outputs": [],
   "source": [
    "print(f\"Best C          > {grid.best_estimator_.C}\")\n",
    "print(f\"Best gamma      > {grid.best_estimator_.gamma}\")\n",
    "print(f\"Best kernel     > {grid.best_estimator_.kernel}\")\n",
    "\n",
    "print(f\"The best score get from grid > {grid.best_score_}\")"
   ]
  },
  {
   "cell_type": "code",
   "execution_count": null,
   "id": "16ed9b6a",
   "metadata": {},
   "outputs": [],
   "source": [
    "grid_PredTrain = grid.predict(rescaledX_train)\n",
    "grid_PredTest = grid.predict(rescaledX_test)"
   ]
  },
  {
   "cell_type": "code",
   "execution_count": null,
   "id": "f0b71201-ebd9-4698-8009-53b6fe9529bd",
   "metadata": {},
   "outputs": [],
   "source": [
    "print(f\"Accuracy of Train Data > {accuracy_score(y_train, grid_predTrain)}\")\n",
    "print(f\"RMSE for Train Data    > {np.sqrt(mean_suqared_error(y_train, grid_predTrain))}\")\n",
    "print(\"\\n\")\n",
    "print(f\"Accuracy of Test Data  > {accuracy_score(y_test, grid_predTest)}\")\n",
    "print(f\"RMSE for Test Data     > {np.sqrt(mean_suqared_error(y_test, grid_predTest))}\")"
   ]
  },
  {
   "cell_type": "code",
   "execution_count": null,
   "id": "f3166cd3",
   "metadata": {},
   "outputs": [],
   "source": [
    "cm = confusion_matrix(y_test, grid_predTest)\n",
    "\n",
    "plt.figure()\n",
    "cm_diagram = ConfusionMatrixDisplay(confusion_matrix=cm, display_labels=['+'. '-'])\n",
    "cm_diagram.plot(cmap=plt.cm.Blues)\n",
    "plt.title('Confusion Matrix', fontsize=17)\n",
    "plt.show()"
   ]
  },
  {
   "cell_type": "code",
   "execution_count": null,
   "id": "b5be28d4",
   "metadata": {},
   "outputs": [],
   "source": [
    "print(classification_report(y_test, grid_predTest))"
   ]
  },
  {
   "cell_type": "markdown",
   "id": "46bd4919-2b4a-4240-b1ca-f170d3ed9bb9",
   "metadata": {},
   "source": [
    "### Export For Future Use"
   ]
  },
  {
   "cell_type": "code",
   "execution_count": null,
   "id": "b97c871e-21c1-4cfc-9d14-7c75173fb609",
   "metadata": {},
   "outputs": [],
   "source": [
    "svc_pickle_out = open(\"pklFolder/model/svc_classifier.pkl\", \"wb\")\n",
    "\n",
    "pickle.dump(grid, svc_pickle_out)\n",
    "svc_pickle_out.close()"
   ]
  },
  {
   "cell_type": "markdown",
   "id": "8f43f07e-7563-46dc-ba94-43f9e4db3d73",
   "metadata": {},
   "source": [
    "## Random Forest Classification"
   ]
  },
  {
   "cell_type": "code",
   "execution_count": null,
   "id": "b2ebf224-b85d-4357-9a09-f840acbefe91",
   "metadata": {},
   "outputs": [],
   "source": [
    "# Import RandomForestClassifier and RandomizedSearchCV\n",
    "from sklearn.ensemble import RandomForestClassifier\n",
    "from sklearn.model_selection import RandomizedSearchCV\n",
    "from sklearn.model_selection import GridSearchCV\n",
    "from sklearn.metrics import *\n",
    "import pickle"
   ]
  },
  {
   "cell_type": "code",
   "execution_count": null,
   "id": "697ec260-f0be-4f5f-8bf7-7457e7b5a043",
   "metadata": {},
   "outputs": [],
   "source": [
    "random_forest_model_default = RandomForestClassifier()\n",
    "random_forest_model_default = random_forest_model_default.fit(rescaledX_train, y_train)\n",
    "\n",
    "y_pred_rf_train = random_forest_model_default.predict(rescaledX_train)\n",
    "y_pred_rf_test = random_forest_model_default.predict(rescaledX_test)"
   ]
  },
  {
   "cell_type": "markdown",
   "id": "d46d36f6-0e72-48c2-b2bb-f78316e9e301",
   "metadata": {},
   "source": [
    "### Check accuracy ( Score, RMSE, Confusion Matrix )"
   ]
  },
  {
   "cell_type": "code",
   "execution_count": null,
   "id": "a4346974-3f9a-40b5-aed0-040d9ff907eb",
   "metadata": {},
   "outputs": [],
   "source": [
    "# display the RMSE and accuracy for both test and train \n",
    "print(\"Acurracy of Train Data with default parameters  > \", accuracy_score(y_train, y_pred_rf_train))\n",
    "print(\"RMSE for Train Data with default parameters     > \", np.sqrt(mean_squared_error(y_train, y_pred_rf_train)))\n",
    "print(\"\\n\")\n",
    "print(\"Acurracy of Test Data with default parameters   > \", accuracy_score(y_test, y_pred_rf_test))\n",
    "print(\"RMSE for Test Data with default parameters      > \", np.sqrt(mean_squared_error(y_test, y_pred_rf_test)))"
   ]
  },
  {
   "cell_type": "code",
   "execution_count": null,
   "id": "2c9e170d-bbf1-420a-ae09-53222d1876a9",
   "metadata": {},
   "outputs": [],
   "source": [
    "confusion_rf_default = confusion_matrix(y_test, y_pred_rf_test)\n",
    "\n",
    "diagram = ConfusionMatrixDisplay(confusion_matrix=confusion_rf_default, display_labels=['+', '-'])\n",
    "diagram.plot(cmap=plt.cm.YlGnBu)\n",
    "plt.title('Confusion Matrix', fontsize=17)\n",
    "plt.show()"
   ]
  },
  {
   "cell_type": "code",
   "execution_count": null,
   "id": "08ba49ef-a1af-42be-94a3-9c302848f008",
   "metadata": {},
   "outputs": [],
   "source": [
    "print(classification_report(y_test, y_pred_rf_test))"
   ]
  },
  {
   "cell_type": "markdown",
   "id": "de44881f-32fb-49f9-8de6-324e88b045d7",
   "metadata": {},
   "source": [
    "### Parameter Distributions"
   ]
  },
  {
   "cell_type": "code",
   "execution_count": null,
   "id": "23f52bec-1ecc-490e-ab12-2e28a3c2d61a",
   "metadata": {},
   "outputs": [],
   "source": [
    "# Do hyperparameter tuning\n",
    "\n",
    "#Number of trees in random forest\n",
    "n_estimators = [int(i) for i in range(50,300,50)]\n",
    "\n",
    "#Minimum number of samples required to split a node\n",
    "min_samples_split = [2, 4, 8]\n",
    "\n",
    "#Maximum number of levels in tree\n",
    "max_depth = [None, 10, 20, 30, 40]\n",
    "\n",
    "#Measures the quality of each split\n",
    "criterion = ['gini','entropy']\n",
    "\n",
    "param_grid = {\n",
    "    'n_estimators': n_estimators,\n",
    "    'min_samples_split': min_samples_split,\n",
    "    'max_depth': max_depth,\n",
    "    'criterion': criterion\n",
    "}"
   ]
  },
  {
   "cell_type": "markdown",
   "id": "005c405a-137e-4517-8919-4d52bb3a1fa0",
   "metadata": {},
   "source": [
    "### RandomSearchCV"
   ]
  },
  {
   "cell_type": "code",
   "execution_count": null,
   "id": "6bc58353-07e8-4c34-80a6-c207aa31c6a2",
   "metadata": {},
   "outputs": [],
   "source": [
    "random_forest_model_RS = RandomForestClassifier()\n",
    "\n",
    "random_search = RandomizedSearchCV(estimator = random_forest_model_RS, param_distributions = param_grid, cv = 10, scoring = 'accuracy', verbose = 1, n_jobs = -1)\n",
    "random_forest_model_RS = random_search.fit(rescaledX_train, y_train)"
   ]
  },
  {
   "cell_type": "code",
   "execution_count": null,
   "id": "4392a2fa-bfd0-4635-9756-fdff620c9511",
   "metadata": {},
   "outputs": [],
   "source": [
    "# Get the best parameters and the best score\n",
    "print(\"Best n_estimators        > \", random_forest_model_RS.best_params_['n_estimators'])\n",
    "print(\"Best min_samples_split   > \", random_forest_model_RS.best_params_['min_samples_split'])\n",
    "print(\"Best max_depth           > \", random_forest_model_RS.best_params_['max_depth'])\n",
    "print(\"Best criterion           > \", random_forest_model_RS.best_params_['criterion'])\n",
    "\n",
    "print(\"The best score get from random search > \", random_forest_model_RS.best_score_)"
   ]
  },
  {
   "cell_type": "code",
   "execution_count": null,
   "id": "f0de810e-6d75-4e55-ade7-01e86cd562d7",
   "metadata": {},
   "outputs": [],
   "source": [
    "#Predict train and test\n",
    "y_pred_rfrs_train = random_forest_model_RS.predict(rescaledX_train)\n",
    "y_pred_rfrs_test = random_forest_model_RS.predict(rescaledX_test)"
   ]
  },
  {
   "cell_type": "code",
   "execution_count": null,
   "id": "9e3a0234-2bf4-469e-ab70-0bff758aef04",
   "metadata": {},
   "outputs": [],
   "source": [
    "# display the RMSE and accuracy for both test and train \n",
    "print(\"Acurracy of Train Data after Random Search  > \", accuracy_score(y_train, y_pred_rfrs_train))\n",
    "print(\"RMSE for Train Data after Random Search     > \", np.sqrt(mean_squared_error(y_train, y_pred_rfrs_train)))\n",
    "print(\"\\n\")\n",
    "print(\"Acurracy of Test Data after Random Search   > \", accuracy_score(y_test, y_pred_rfrs_test))\n",
    "print(\"RMSE for Test Data after Random Search      > \", np.sqrt(mean_squared_error(y_test, y_pred_rfrs_test)))"
   ]
  },
  {
   "cell_type": "code",
   "execution_count": null,
   "id": "a8ff864e-466e-4f21-8255-d92e0c5aed57",
   "metadata": {},
   "outputs": [],
   "source": [
    "confusion_rf_RS = confusion_matrix(y_test, y_pred_rf_test)\n",
    "\n",
    "diagram = ConfusionMatrixDisplay(confusion_matrix=confusion_rf_RS, display_labels=['+', '-'])\n",
    "diagram.plot(cmap=plt.cm.YlGnBu)\n",
    "plt.title('Confusion Matrix', fontsize=17)\n",
    "plt.show()"
   ]
  },
  {
   "cell_type": "code",
   "execution_count": null,
   "id": "d30d460b-1ba4-4ec3-899b-973e372e5021",
   "metadata": {},
   "outputs": [],
   "source": [
    "print(classification_report(y_test, y_pred_rfrs_test))"
   ]
  },
  {
   "cell_type": "markdown",
   "id": "44561979-2947-4cc7-bb0c-637f9bfec735",
   "metadata": {},
   "source": [
    "### GridSearchCV"
   ]
  },
  {
   "cell_type": "code",
   "execution_count": null,
   "id": "eb360279-781a-4d26-bc42-1cb0c86983d1",
   "metadata": {},
   "outputs": [],
   "source": [
    "random_forest_model_GS = RandomForestClassifier()\n",
    "\n",
    "grid_search = GridSearchCV(estimator = random_forest_model_GS, param_grid = param_grid, cv = 5, scoring='accuracy', n_jobs=-1)\n",
    "random_forest_model_GS = grid_search.fit(rescaledX_train, y_train)"
   ]
  },
  {
   "cell_type": "code",
   "execution_count": null,
   "id": "9e800eaa-ea3d-409c-bbcc-efcfe83c8d29",
   "metadata": {},
   "outputs": [],
   "source": [
    "# Get the best parameters and the best score\n",
    "print(\"Best n_estimators        > \", random_forest_model_GS.best_params_['n_estimators'])\n",
    "print(\"Best min_samples_split   > \", random_forest_model_GS.best_params_['min_samples_split'])\n",
    "print(\"Best max_depth           > \", random_forest_model_GS.best_params_['max_depth'])\n",
    "print(\"Best criterion           > \", random_forest_model_GS.best_params_['criterion'])\n",
    "\n",
    "print(\"The best score get from random search > \", random_forest_model_RS.best_score_)"
   ]
  },
  {
   "cell_type": "code",
   "execution_count": null,
   "id": "adc74ff9-e3a8-4ada-8082-f3436e51c740",
   "metadata": {},
   "outputs": [],
   "source": [
    "#Predict train and test\n",
    "y_pred_rfgs_train = random_forest_model_GS.predict(rescaledX_train)\n",
    "y_pred_rfgs_test = random_forest_model_GS.predict(rescaledX_test)"
   ]
  },
  {
   "cell_type": "code",
   "execution_count": null,
   "id": "90dd983c-1291-4e49-823b-980c664c9aa9",
   "metadata": {},
   "outputs": [],
   "source": [
    "# display the RMSE and accuracy for both test and train \n",
    "print(\"Acurracy of Train Data after Grid Search  > \", accuracy_score(y_train, y_pred_rfgs_train))\n",
    "print(\"RMSE for Train Data after Grid Search     > \", np.sqrt(mean_squared_error(y_train, y_pred_rfgs_train)))\n",
    "print(\"\\n\")\n",
    "print(\"Acurracy of Test Data after Grid Search   > \", accuracy_score(y_test, y_pred_rfgs_test))\n",
    "print(\"RMSE for Test Data after Grid Search      > \", np.sqrt(mean_squared_error(y_test, y_pred_rfgs_test)))"
   ]
  },
  {
   "cell_type": "code",
   "execution_count": null,
   "id": "efaf7967-6f5d-4271-a8cf-61e76ab4e0bd",
   "metadata": {},
   "outputs": [],
   "source": [
    "confusion_rf_GS = confusion_matrix(y_test, y_pred_rfgs_test)\n",
    "\n",
    "diagram = ConfusionMatrixDisplay(confusion_matrix=confusion_rf_GS, display_labels=['+', '-'])\n",
    "diagram.plot(cmap=plt.cm.YlGnBu)\n",
    "plt.title('Confusion Matrix', fontsize=17)\n",
    "plt.show()"
   ]
  },
  {
   "cell_type": "code",
   "execution_count": null,
   "id": "ebc73cf3-7ddb-4b2f-973b-37edc298ad10",
   "metadata": {},
   "outputs": [],
   "source": [
    "print(classification_report(y_test, y_pred_rfgs_test))"
   ]
  },
  {
   "cell_type": "markdown",
   "id": "2d442ab4-bea0-4252-b741-be0ed9b8ff4e",
   "metadata": {},
   "source": [
    "### Export For Future Use"
   ]
  },
  {
   "cell_type": "code",
   "execution_count": null,
   "id": "7c46d99a-f56d-4c68-bce1-f5f0e781f0ac",
   "metadata": {},
   "outputs": [],
   "source": [
    "# pickle.dump(random_forest_model_default, open(\"pklFolder/model/RandomForestClassifier.pkl\", 'wb'))\n",
    "pickle.dump(random_forest_model_default, open(\"pklFolder/model/RandomForestClassifier.pkl\", 'wb'))"
   ]
  },
  {
   "cell_type": "markdown",
   "id": "669a8d9d-54e0-416e-aa2a-a1707bff7074",
   "metadata": {},
   "source": [
    "## K Nearest Neighbourhood y_test"
   ]
  },
  {
   "cell_type": "code",
   "execution_count": null,
   "id": "313048ac-3945-4b29-a463-6a95783872f7",
   "metadata": {},
   "outputs": [],
   "source": [
    "#import libraries\n",
    "import numpy as np\n",
    "from sklearn.neighbors import KNeighborsClassifier\n",
    "from sklearn.model_selection import GridSearchCV\n",
    "from sklearn.metrics import *\n",
    "import matplotlib.pyplot as plt\n",
    "import seaborn as sns\n",
    "import joblib"
   ]
  },
  {
   "cell_type": "code",
   "execution_count": null,
   "id": "3a4b731f-c833-4ff8-9531-7dbd15de2157",
   "metadata": {},
   "outputs": [],
   "source": [
    "#implement KNN model\n",
    "knn = KNeighborsClassifier()\n",
    "\n",
    "#use GridSearchCV to tune hyperparameters\n",
    "param_grid = {\n",
    "    'n_neighbors': range(1, 6),\n",
    "    'weights': ['uniform', 'distance'],\n",
    "    'algorithm': ['auto', 'ball_tree', 'kd_tree', 'brute'],\n",
    "    'leaf_size': [10, 20, 30, 40, 50],\n",
    "    'p': [1, 2],\n",
    "    'metric': ['minkowski', 'euclidean', 'manhattan'],\n",
    "}\n",
    "\n",
    "knn_grid = GridSearchCV(knn, param_grid, cv=5, n_jobs=-1)\n",
    "knn_grid.fit(rescaledX_train, y_train)\n",
    "\n",
    "#best parameters and evaluate model\n",
    "print(\"Best parameters:\")\n",
    "print(knn_grid.best_params_)\n",
    "\n",
    "#get the best model from GridSearchCV\n",
    "best_knn = knn_grid.best_estimator_\n",
    "\n",
    "#evaluate on training data\n",
    "y_train_pred = best_knn.predict(rescaledX_train)\n",
    "train_accuracy = accuracy_score(y_train, y_train_pred)\n",
    "\n",
    "#evaluate on test data\n",
    "y_test_pred = best_knn.predict(rescaledX_test)\n",
    "test_accuracy = accuracy_score(y_test, y_test_pred)"
   ]
  },
  {
   "cell_type": "markdown",
   "id": "57d64d43-f119-4787-baf0-8722f5a3107e",
   "metadata": {},
   "source": [
    "### Check accuracy ( Score, RMSE, Confusion Matrix )"
   ]
  },
  {
   "cell_type": "code",
   "execution_count": null,
   "id": "d2ae2f8c-5b56-4e38-b92e-ea1ad566777d",
   "metadata": {},
   "outputs": [],
   "source": [
    "print(\"Accuracy Train Data:\", train_accuracy)\n",
    "print(\"Accuracy Test Data:\", test_accuracy)"
   ]
  },
  {
   "cell_type": "code",
   "execution_count": null,
   "id": "ef0847f2-0223-4164-8a95-73f90e2c1e1d",
   "metadata": {},
   "outputs": [],
   "source": [
    "#calculate accuracy, precision, recall and F1 score\n",
    "accuracy_knn = accuracy_score(y_test, y_test_pred) * 100\n",
    "print('Accuracy  : %.5f' % accuracy_knn)"
   ]
  },
  {
   "cell_type": "code",
   "execution_count": null,
   "id": "73e4a0d5-9341-41be-a1c2-29107036e426",
   "metadata": {},
   "outputs": [],
   "source": [
    "#caluclate Root Mean Squared Error (RMSE)\n",
    "rmse = np.sqrt(mean_squared_error(y_test, y_test_pred))\n",
    "print(\"RMSE:\", rmse)"
   ]
  },
  {
   "cell_type": "code",
   "execution_count": null,
   "id": "0b787e50-9195-4e32-be1e-b950e7b3662a",
   "metadata": {},
   "outputs": [],
   "source": [
    "#display confusion matrix\n",
    "cm = confusion_matrix(y_test, y_test_pred)\n",
    "sns.heatmap(cm, annot=True, fmt='d', cmap='Blues')\n",
    "plt.ylabel('Actual', fontsize=13)\n",
    "plt.xlabel('Predicted', fontsize=13)\n",
    "plt.title('Confusion Matrix', fontsize=17)\n",
    "plt.show()"
   ]
  },
  {
   "cell_type": "code",
   "execution_count": null,
   "id": "15ae172b-49ee-4166-b55f-3de9a58475a6",
   "metadata": {},
   "outputs": [],
   "source": [
    "#display classification report\n",
    "print(classification_report(y_test, y_test_pred))"
   ]
  },
  {
   "cell_type": "markdown",
   "id": "b3ad9517-a106-452b-8877-e21502c4e0d1",
   "metadata": {},
   "source": [
    "### Export For Future Use"
   ]
  },
  {
   "cell_type": "code",
   "execution_count": null,
   "id": "169524f9-a456-4301-b7e4-648bbd0bbdab",
   "metadata": {},
   "outputs": [],
   "source": [
    "#save the model to knn.pkl file\n",
    "joblib.dump(best_knn, 'pklFolder/model/knn.pkl')\n",
    "print(\"Model saved to 'knn.pkl'\")"
   ]
  },
  {
   "cell_type": "markdown",
   "id": "c1cbf421-017e-4291-ae42-ee38e5696d81",
   "metadata": {},
   "source": [
    "## XGBOOST Classification"
   ]
  },
  {
   "cell_type": "code",
   "execution_count": null,
   "id": "4011e679-73a5-4dd5-9807-ddf335fa37fb",
   "metadata": {},
   "outputs": [],
   "source": [
    "import xgboost as xgb\n",
    "import pandas as pd\n",
    "import numpy as np\n",
    "import matplotlib.pyplot as plt\n",
    "import seaborn as sns\n",
    "import joblib\n",
    "from sklearn.model_selection import GridSearchCV\n",
    "from sklearn.metrics import *"
   ]
  },
  {
   "cell_type": "code",
   "execution_count": null,
   "id": "33e03106-f987-4ee0-8a28-dd8e4cd63c81",
   "metadata": {},
   "outputs": [],
   "source": [
    "#implement ur model (train)\n",
    "model = xgb.XGBClassifier(objective='binary:logistic', n_estimators=100, max_depth=4, learning_rate=0.1)\n",
    "model.fit(rescaledX_train, y_train)"
   ]
  },
  {
   "cell_type": "code",
   "execution_count": null,
   "id": "584b4f0e-b3f7-4a3d-9ac8-4129035b3990",
   "metadata": {},
   "outputs": [],
   "source": [
    "y_pred = model.predict(rescaledX_test)"
   ]
  },
  {
   "cell_type": "code",
   "execution_count": null,
   "id": "9324af3d-075c-4c2a-8fbc-7871ff7c6c7a",
   "metadata": {},
   "outputs": [],
   "source": [
    "#calculate accuracy of model (test)\n",
    "accuracy = accuracy_score(y_test, y_pred)\n",
    "print(f\"Initial Accuracy: {accuracy * 100:.2f}%\")"
   ]
  },
  {
   "cell_type": "markdown",
   "id": "2dc49db9-b417-4b33-8fc4-b8c1a0d33a6e",
   "metadata": {},
   "source": [
    "### GridSearchCV"
   ]
  },
  {
   "cell_type": "code",
   "execution_count": null,
   "id": "7a02e0ee-c67f-443a-bac2-2780f29b0c27",
   "metadata": {},
   "outputs": [],
   "source": [
    "# Step 3: Using GridSearchCV to tune parameters\n",
    "param_grid = {\n",
    "    'n_estimators': [200, 250, 300],\n",
    "    'max_depth': [3, 4, 5, 6],\n",
    "    'learning_rate': [0.01, 0.02],\n",
    "    'subsample': [0.75, 0.8],\n",
    "    'colsample_bytree': [0.8, 0.9, 1.0],\n",
    "    'gamma': [0, 0.1, 0.2],\n",
    "    'min_child_weight': [1, 2],\n",
    "    'reg_alpha': [0, 0.05],\n",
    "    'reg_lambda': [1, 1.2]\n",
    "}\n",
    "\n",
    "grid_search = GridSearchCV(estimator=xgb.XGBClassifier(objective='binary:logistic'), \n",
    "                           param_grid=param_grid, n_jobs=-1,\n",
    "                           scoring='accuracy', \n",
    "                           cv=5, \n",
    "                           verbose=1)\n",
    "\n",
    "grid_search.fit(rescaledX_train, y_train)"
   ]
  },
  {
   "cell_type": "code",
   "execution_count": null,
   "id": "b3b5096c-587e-4c09-a784-68138ee220b3",
   "metadata": {},
   "outputs": [],
   "source": [
    "best_params = grid_search.best_params_\n",
    "print(f\"Best parameters: {best_params}\")"
   ]
  },
  {
   "cell_type": "code",
   "execution_count": null,
   "id": "6d647cd8-e7c8-45ec-99a8-aac5c67068d5",
   "metadata": {},
   "outputs": [],
   "source": [
    "# Train the model with the best parameters\n",
    "best_model = xgb.XGBClassifier(**best_params)\n",
    "best_model.fit(rescaledX_train, y_train)\n",
    "\n",
    "# Predict and calculate the accuracy with the best model\n",
    "y_pred_best = best_model.predict(rescaledX_test)\n",
    "best_accuracy = accuracy_score(y_test, y_pred_best)\n",
    "print(f\"Accuracy after GridSearchCV: {best_accuracy * 100:.2f}%\")"
   ]
  },
  {
   "cell_type": "markdown",
   "id": "93ed4d30-8512-47ed-8bb3-e8187a5ff509",
   "metadata": {},
   "source": [
    "### Check accuracy ( Score, RMSE, Confusion Matrix )"
   ]
  },
  {
   "cell_type": "code",
   "execution_count": null,
   "id": "fde1b45b-d469-4038-9715-35951037c3f1",
   "metadata": {},
   "outputs": [],
   "source": [
    "y_pred_prob = best_model.predict_proba(rescaledX_test)[:, 1]\n",
    "\n",
    "rmse = np.sqrt(mean_squared_error(y_test, y_pred_prob))\n",
    "\n",
    "print(f\"Root Mean Squared Error (RMSE): {rmse}\")"
   ]
  },
  {
   "cell_type": "code",
   "execution_count": null,
   "id": "b7bdf319-65da-4ae5-bcdf-89af0373efb1",
   "metadata": {},
   "outputs": [],
   "source": [
    "# MAE (Mean Absolute Error) - On probabilities, if needed\n",
    "mae = mean_absolute_error(y_test, y_pred_prob)\n",
    "print(f'MAE: {mae}')"
   ]
  },
  {
   "cell_type": "code",
   "execution_count": null,
   "id": "9fa0ad1e-4cd3-4959-a3e8-0c998bd4f797",
   "metadata": {},
   "outputs": [],
   "source": [
    "# Step 6: Confusion Matrix\n",
    "cm = confusion_matrix(y_test, y_pred_best)\n",
    "plt.figure(figsize=(6, 4))\n",
    "sns.heatmap(cm, annot=True, fmt='d', cmap='Blues')\n",
    "plt.title('Confusion Matrix')\n",
    "plt.xlabel('Predicted')\n",
    "plt.ylabel('Actual')\n",
    "plt.show()"
   ]
  },
  {
   "cell_type": "markdown",
   "id": "327f52f3-001c-422d-a5e8-b70fd15421f7",
   "metadata": {},
   "source": [
    "### Export For Future Use"
   ]
  },
  {
   "cell_type": "code",
   "execution_count": null,
   "id": "fe746746-cec6-4834-a027-8017636f87f0",
   "metadata": {},
   "outputs": [],
   "source": [
    "# Step 5: Save the final model to a .pkl file using joblib\n",
    "joblib.dump(best_model, 'pklFolder/model/xgboost.pkl')\n",
    "print(\"Model saved as 'xgboost.pkl'\")"
   ]
  },
  {
   "cell_type": "markdown",
   "id": "247961b3-3871-435c-a906-a5a49071a326",
   "metadata": {},
   "source": [
    "-----------------------------------------------------\n",
    "Evaluation Start "
   ]
  },
  {
   "cell_type": "markdown",
   "id": "5b83deb3-3289-459c-adc5-bea718adeca0",
   "metadata": {},
   "source": [
    "# Model Performance Comparision"
   ]
  },
  {
   "cell_type": "code",
   "execution_count": null,
   "id": "8d9175a2-6eb8-483d-854e-cf65c40dd34f",
   "metadata": {},
   "outputs": [],
   "source": [
    "import joblib\n",
    "from sklearn.linear_model import LogisticRegression\n",
    "from sklearn.svm import SVC\n",
    "from sklearn.ensemble import RandomForestClassifier\n",
    "from sklearn.neighbors import KNeighborsClassifier\n",
    "import xgboost as xgb\n",
    "from sklearn.metrics import accuracy_score, precision_score, recall_score, f1_score"
   ]
  },
  {
   "cell_type": "code",
   "execution_count": null,
   "id": "646beada-8757-436f-a877-1bb5f9bcbe6e",
   "metadata": {},
   "outputs": [],
   "source": [
    "def print_scores(y, y_pred):\n",
    "    ac, pr, rc, f1 = accuracy_score(y, y_pred)*100, precision_score(y, y_pred)*100, recall_score(y, y_pred)*100, f1_score(y, y_pred)*100\n",
    "    \n",
    "    return {'ac': ac, 'pr': pr, 'rc': rc, 'f1': f1} # get all accurancy, precision, recall and f1 "
   ]
  },
  {
   "cell_type": "code",
   "execution_count": null,
   "id": "33c5ca23-00ab-451c-91a9-11651ea783d9",
   "metadata": {},
   "outputs": [],
   "source": [
    "# read and predict all model to get the y \n",
    "# LogisticRegression.pkl\n",
    "logReg_model = joblib.load('pklFolder/model/LogisticRegression.pkl')\n",
    "\n",
    "# svc_classifier.pkl\n",
    "svc_model = joblib.load('pklFolder/model/svc_classifier.pkl')\n",
    "\n",
    "# RandomForestClassifier.pkl\n",
    "rfc_model = joblib.load('pklFolder/model/RandomForestClassifier.pkl')\n",
    "\n",
    "# knn.pkl\n",
    "knn_model = joblib.load('pklFolder/model/knn.pkl')\n",
    "\n",
    "# xgboost.pkl \n",
    "xgb_model = joblib.load('pklFolder/model/xgboost.pkl')\n",
    "\n",
    "modelList = [logReg_model, svc_model, rfc_model, knn_model, xgb_model]"
   ]
  },
  {
   "cell_type": "code",
   "execution_count": null,
   "id": "517017b1-147e-49cf-8d56-e4bc99ced419",
   "metadata": {},
   "outputs": [],
   "source": [
    "modelCompare = {\n",
    "    'Model': ['LogisticRegression', 'Support Vector Classification', 'Random Forest Classifaction', 'K Nearest Neighbourhood', 'XGBOOST Classification'],\n",
    "    'Accuracy': [ ],\n",
    "    'Precision': [ ],\n",
    "    'Recall': [ ],\n",
    "    'F1 Score': [ ]\n",
    "}"
   ]
  },
  {
   "cell_type": "code",
   "execution_count": null,
   "id": "399279da-6c21-4c94-af8d-4371fb7c4f68",
   "metadata": {},
   "outputs": [],
   "source": [
    "# use testing dataset rescaledX_test, y_test\n",
    "predict_y = logReg_model.predict(rescaledX_test)\n",
    "score = print_scores(y_test, predict_y)\n",
    "\n",
    "for model in modelList : \n",
    "    predict_y = model.predict(rescaledX_test)\n",
    "    \n",
    "    score = print_scores(y_test, predict_y)\n",
    "\n",
    "    modelCompare['Accuracy'].append(score['ac'])\n",
    "    modelCompare['Precision'].append(score['pr'])\n",
    "    modelCompare['Recall'].append(score['rc'])\n",
    "    modelCompare['F1 Score'].append(score['f1'])\n",
    "\n",
    "\n",
    "results_df = pd.DataFrame(modelCompare)\n",
    "results_df"
   ]
  },
  {
   "cell_type": "markdown",
   "id": "fb5f8f79-2ee5-44e5-8bcf-f665d1bee780",
   "metadata": {},
   "source": [
    "## Comparing Actual and Predicted "
   ]
  },
  {
   "cell_type": "code",
   "execution_count": null,
   "id": "a7adfe06-b4e0-4a2c-bea3-3ea6ff2ea9f2",
   "metadata": {},
   "outputs": [],
   "source": [
    "# search for a data \n",
    "clean_df.loc[30]\n",
    "\n",
    "dataTest = clean_df.drop(columns=['A16']).loc[30].values\n",
    "y = clean_df['A16'].loc[30]\n",
    "\n",
    "print(f\"X feature > {dataTest}\")\n",
    "print(f\"Y predict > {y}\")"
   ]
  },
  {
   "cell_type": "code",
   "execution_count": null,
   "id": "469c6c97-051f-4e74-b4dc-c8117891c4de",
   "metadata": {},
   "outputs": [],
   "source": [
    "# logReg_model.predict([dataTest])"
   ]
  },
  {
   "cell_type": "code",
   "execution_count": null,
   "id": "b070cf78-e9de-49d2-9ad3-2f471bbc0b33",
   "metadata": {},
   "outputs": [],
   "source": [
    "for i in range(len(modelList)) : \n",
    "    # loop the modelList\n",
    "    result = modelList[i].predict([dataTest])\n",
    "\n",
    "    print(f\"{modelCompare['Model'][i]} > {result} ( {'false' if result != y else 'true'} )\")"
   ]
  },
  {
   "cell_type": "markdown",
   "id": "d69dedc6-e138-4b69-9cb9-9e28908c6851",
   "metadata": {},
   "source": [
    "-------------------------------------------------------------------------\n",
    "Deployment Start"
   ]
  },
  {
   "cell_type": "markdown",
   "id": "729d98d5-de42-4ba3-b6eb-576adf0a08cc",
   "metadata": {},
   "source": [
    "# End-to-End Pipeline Construction ( Pipeline )"
   ]
  },
  {
   "cell_type": "code",
   "execution_count": null,
   "id": "bf2082eb-ca21-4e18-ab35-6e59d0b3d6ea",
   "metadata": {},
   "outputs": [],
   "source": [
    "import pandas as pd\n",
    "import joblib\n",
    "from sklearn.preprocessing import OrdinalEncoder, MinMaxScaler\n",
    "\n",
    "bestmodel = 'xgboost'"
   ]
  },
  {
   "cell_type": "code",
   "execution_count": null,
   "id": "66d89b28-78ef-45b8-ad7c-23c4757ce904",
   "metadata": {},
   "outputs": [],
   "source": [
    "# due to the fitting problem cannot be skip, at here will create a custom pipeline by accessing 3 value as parameter \n",
    "class ModelPipeline:\n",
    "    \n",
    "    def __init__(self, encoder_path, scaler_path, model_path):\n",
    "        # load the encoder, scaler and model by using joblib\n",
    "        self.encoder = joblib.load(encoder_path)\n",
    "        self.scaler = joblib.load(scaler_path)\n",
    "        self.model = joblib.load(model_path)\n",
    "    \n",
    "    def predict(self, input_data):\n",
    "        # due to input data is in dictionary type so need to do convert\n",
    "        df = pd.DataFrame([input_data])\n",
    "        \n",
    "        # get the encode feature from encoder, to ensure consistency \n",
    "        categorical_columns = self.encoder.feature_names_in_\n",
    "\n",
    "        # col that in int or float datatype\n",
    "        continuous_columns = [col for col in df.columns if col not in categorical_columns]\n",
    "\n",
    "        # encoder \n",
    "        df[categorical_columns] = self.encoder.transform(df[categorical_columns])\n",
    "\n",
    "        # scaler\n",
    "        x = df.values\n",
    "        x_transform = self.scaler.transform(x)\n",
    "        \n",
    "        # model\n",
    "        predictedY = self.model.predict(x_transform)\n",
    "        \n",
    "        return int(predictedY[0])"
   ]
  },
  {
   "cell_type": "code",
   "execution_count": null,
   "id": "820da340-10f8-4e31-92ae-f07c4b6b323f",
   "metadata": {},
   "outputs": [],
   "source": [
    "# user input \n",
    "data = {\n",
    "        'A2' : 30.83,\n",
    "        'A3' : 0.000,\n",
    "        'A4' : 'u',\n",
    "        'A5' : 'g',\n",
    "        'A6' : 'w',\n",
    "        'A8' : 1.250,\n",
    "        'A9' : 't',\n",
    "        'A10' : 't',\n",
    "        'A11' : 1,\n",
    "        'A13' : 'g',\n",
    "        'A14' : 202.0,\n",
    "        'A15' : 0\n",
    "    }\n",
    "\n",
    "# create pipeline\n",
    "pipeline = ModelPipeline('pklFolder/featureEncoder.pkl', 'pklFolder/scaler.pkl', f'pklFolder/model/{bestmodel}.pkl')"
   ]
  },
  {
   "cell_type": "code",
   "execution_count": null,
   "id": "ba243ae5-f5b1-468c-927d-9e363a6f64d9",
   "metadata": {},
   "outputs": [],
   "source": [
    "# try to predict \n",
    "predictedY = pipeline.predict(data)\n",
    "\n",
    "# predictedY\n",
    "print(f\"A16 > {predictedY}\")"
   ]
  },
  {
   "cell_type": "code",
   "execution_count": null,
   "id": "ae13358c-45e2-4050-8211-dd5b8f182dc3",
   "metadata": {},
   "outputs": [],
   "source": [
    "# export as pkl\n",
    "joblib.dump(pipeline, 'pklFolder/pipeline.pkl')"
   ]
  },
  {
   "cell_type": "code",
   "execution_count": null,
   "id": "c41cf710-8a46-4a17-8dfe-324dec6eae2e",
   "metadata": {},
   "outputs": [],
   "source": [
    "# try to export and use \n",
    "ePipeline = joblib.load('pklFolder/pipeline.pkl')\n",
    "\n",
    "print(f\"A16 > {ePipeline.predict(data)}\")"
   ]
  },
  {
   "cell_type": "markdown",
   "id": "6aa22c8a-34c1-414d-9997-4d1ffe0551c6",
   "metadata": {},
   "source": [
    "# Testing the process of predict for UI"
   ]
  },
  {
   "cell_type": "code",
   "execution_count": null,
   "id": "e5ee6c7a-a698-4a3f-9f15-2187d2612ebb",
   "metadata": {},
   "outputs": [],
   "source": [
    "from sklearn.compose import ColumnTransformer\n",
    "from sklearn.preprocessing import OrdinalEncoder\n",
    "from sklearn.preprocessing import StandardScaler\n",
    "import pandas as pd\n",
    "from sklearn.preprocessing import OrdinalEncoder\n",
    "\n",
    "# Example DataFrame\n",
    "# data = dict( A2=[30.83], \n",
    "#              A3=[0.000],  \n",
    "#              A4=['u'], \n",
    "#              A5=['g'], \n",
    "#              A6=['w'],\n",
    "#              A8=[1.250],\n",
    "#              A9=['t'],\n",
    "#              A10=['t'],\n",
    "#              A11=[1],\n",
    "#              A13=['g'],\n",
    "#              A14=[202.0],\n",
    "#              A15=[0]\n",
    "#            )\n",
    "\n",
    "data = {\n",
    "        'A2' : 30.83,\n",
    "        'A3' : 0.000,\n",
    "        'A4' : 'u',\n",
    "        'A5' : 'g',\n",
    "        'A6' : 'w',\n",
    "        'A8' : 1.250,\n",
    "        'A9' : 't',\n",
    "        'A10' : 't',\n",
    "        'A11' : 1,\n",
    "        'A13' : 'g',\n",
    "        'A14' : 202.0,\n",
    "        'A15' : 0\n",
    "    }\n",
    "# y = + (0)\n",
    "# b\t30.83\t0.000\tu\tg\tw\tv\t1.250\tt\tt\t1\tf\tg\t202.0\t0\t+\n",
    "\n",
    "\n",
    "df = pd.DataFrame([data])\n",
    "\n",
    "df"
   ]
  },
  {
   "cell_type": "code",
   "execution_count": null,
   "id": "60f06161-bbd3-4490-84cb-8089eca2b568",
   "metadata": {},
   "outputs": [],
   "source": [
    "encoder = joblib.load('pklFolder/featureEncoder.pkl')\n",
    "scaler = joblib.load('pklFolder/scaler.pkl')\n",
    "model = joblib.load('pklFolder/model/LogisticRegression.pkl')"
   ]
  },
  {
   "cell_type": "code",
   "execution_count": null,
   "id": "06b9faef-e4bb-4208-af07-49b0c81aa4d0",
   "metadata": {},
   "outputs": [],
   "source": [
    "print(encoder.feature_names_in_)"
   ]
  },
  {
   "cell_type": "code",
   "execution_count": null,
   "id": "905a3a4d-dd95-4fb2-ba7d-06abd2f4f58b",
   "metadata": {
    "scrolled": true
   },
   "outputs": [],
   "source": [
    "categorical_columns = encoder.feature_names_in_\n",
    "\n",
    "df[categorical_columns] = encoder.transform(df[categorical_columns])"
   ]
  },
  {
   "cell_type": "code",
   "execution_count": null,
   "id": "f1214859-26e7-45ef-bd6b-af2a81011b41",
   "metadata": {},
   "outputs": [],
   "source": [
    "df"
   ]
  },
  {
   "cell_type": "code",
   "execution_count": null,
   "id": "891d0a72-ae63-4678-a7ba-dd7b60783c72",
   "metadata": {},
   "outputs": [],
   "source": [
    "x = df.values\n",
    "\n",
    "x"
   ]
  },
  {
   "cell_type": "code",
   "execution_count": null,
   "id": "c0715928-fd5d-481b-bcbd-e265d1bd6a17",
   "metadata": {},
   "outputs": [],
   "source": [
    "x_transform = scaler.transform(x)\n",
    "\n",
    "x_transform"
   ]
  },
  {
   "cell_type": "code",
   "execution_count": null,
   "id": "ffb47f52-a2ad-4a44-be4f-db90a2d0d4be",
   "metadata": {},
   "outputs": [],
   "source": [
    "predictedY = model.predict(x_transform)\n",
    "\n",
    "print(f\"{int(predictedY[0])}\")"
   ]
  }
 ],
 "metadata": {
  "kernelspec": {
   "display_name": "Python 3 (ipykernel)",
   "language": "python",
   "name": "python3"
  },
  "language_info": {
   "codemirror_mode": {
    "name": "ipython",
    "version": 3
   },
   "file_extension": ".py",
   "mimetype": "text/x-python",
   "name": "python",
   "nbconvert_exporter": "python",
   "pygments_lexer": "ipython3",
   "version": "3.11.5"
  }
 },
 "nbformat": 4,
 "nbformat_minor": 5
}
